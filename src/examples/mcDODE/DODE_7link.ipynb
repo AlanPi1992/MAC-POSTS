{
 "cells": [
  {
   "cell_type": "code",
   "execution_count": 1,
   "metadata": {},
   "outputs": [],
   "source": [
    "%load_ext autoreload\n",
    "%autoreload 2"
   ]
  },
  {
   "cell_type": "code",
   "execution_count": 2,
   "metadata": {},
   "outputs": [],
   "source": [
    "import numpy as np\n",
    "import pandas as pd\n",
    "import sys\n",
    "import datetime\n",
    "import os\n",
    "import matplotlib.pyplot as plt\n",
    "import matplotlib\n",
    "import networkx as nx\n",
    "import pickle\n",
    "from collections import OrderedDict\n",
    "import copy\n",
    "from scipy.sparse import csr_matrix\n",
    "from scipy import io\n",
    "import seaborn as sns\n",
    "import joblib\n",
    "# from base import *\n",
    "from joblib import Parallel, delayed\n",
    "import random\n",
    "import scipy"
   ]
  },
  {
   "cell_type": "code",
   "execution_count": 3,
   "metadata": {},
   "outputs": [],
   "source": [
    "MNM_nb_folder = os.path.join('..', '..', '..', 'side_project', 'network_builder')\n",
    "sys.path.append(MNM_nb_folder)\n",
    "python_lib_folder = os.path.join('..', '..', 'pylib')\n",
    "sys.path.append(python_lib_folder)"
   ]
  },
  {
   "cell_type": "code",
   "execution_count": 4,
   "metadata": {},
   "outputs": [],
   "source": [
    "from MNMAPI import *\n",
    "from MNM_mcnb import *\n",
    "from mcDODE import *"
   ]
  },
  {
   "cell_type": "code",
   "execution_count": 5,
   "metadata": {},
   "outputs": [],
   "source": [
    "data_folder = os.path.join('/home/lemma/Documents/MAC-POSTS/data/input_files_7link_multiclass')"
   ]
  },
  {
   "cell_type": "code",
   "execution_count": 6,
   "metadata": {},
   "outputs": [],
   "source": [
    "nb = MNM_network_builder()\n",
    "nb.load_from_folder(data_folder)"
   ]
  },
  {
   "cell_type": "code",
   "execution_count": 7,
   "metadata": {},
   "outputs": [],
   "source": [
    "observed_link_list = [3, 4, 6]\n",
    "ml_car = 2\n",
    "ml_truck = 1\n",
    "data_dict = dict()\n",
    "num_interval = nb.config.config_dict['DTA']['max_interval']\n",
    "true_car_x = np.random.rand(num_interval * len(observed_link_list)) * 100\n",
    "true_truck_x = np.random.rand(num_interval * len(observed_link_list)) * 10\n",
    "L_car_one = np.random.randint(2, size = (ml_car, len(observed_link_list)))\n",
    "L_truck_one = np.random.randint(2, size = (ml_truck, len(observed_link_list)))\n",
    "L_car = csr_matrix(scipy.linalg.block_diag(*[L_car_one for i in range(num_interval)]))\n",
    "L_truck = csr_matrix(scipy.linalg.block_diag(*[L_truck_one for i in range(num_interval)]))\n",
    "m_car = L_car.dot(true_car_x)\n",
    "m_truck = L_truck.dot(true_truck_x)\n",
    "data_dict['car_count_agg_L_list'] = [L_car]\n",
    "data_dict['truck_count_agg_L_list'] = [L_truck]\n",
    "data_dict['car_link_flow'] = [m_car]\n",
    "data_dict['truck_link_flow'] = [m_truck]\n",
    "# data_dict['car_link_tt'] = [m_spd_car]\n",
    "# data_dict['truck_link_tt'] = [m_spd_truck]"
   ]
  },
  {
   "cell_type": "code",
   "execution_count": 8,
   "metadata": {},
   "outputs": [],
   "source": [
    "config = dict()\n",
    "config['use_car_link_flow'] = True\n",
    "config['use_truck_link_flow'] = True\n",
    "config['use_car_link_tt'] = False\n",
    "config['use_truck_link_tt'] = False\n",
    "config['car_count_agg'] = True\n",
    "config['truck_count_agg'] = True\n",
    "config['link_car_flow_weight'] = 1\n",
    "config['link_truck_flow_weight'] = 1\n",
    "config['link_tt_weight'] = 1\n",
    "config['num_data'] = 1\n",
    "config['observed_links'] = observed_link_list\n",
    "config['paths_list'] = range(nb.config.config_dict['FIXED']['num_path'])"
   ]
  },
  {
   "cell_type": "code",
   "execution_count": 9,
   "metadata": {},
   "outputs": [
    {
     "data": {
      "text/plain": [
       "[DTA]\n",
       "network_name = Snap_graph\n",
       "unit_time = 5\n",
       "total_interval = -1\n",
       "assign_frq = 180\n",
       "start_assign_interval = 0\n",
       "max_interval = 10\n",
       "flow_scalar = 10\n",
       "num_of_link = 7\n",
       "num_of_node = 6\n",
       "num_of_O = 1\n",
       "num_of_D = 1\n",
       "OD_pair = 1\n",
       "routing_type = Fixed\n",
       "\n",
       "[STAT]\n",
       "rec_mode = LRn\n",
       "rec_mode_para = 12\n",
       "rec_folder = record\n",
       "rec_volume = 0\n",
       "volume_load_automatic_rec = 0\n",
       "volume_record_automatic_rec = 0\n",
       "rec_tt = 1\n",
       "tt_load_automatic_rec = 0\n",
       "tt_record_automatic_rec = 0\n",
       "\n",
       "[FIXED]\n",
       "path_file_name = path_table\n",
       "num_path = 3\n",
       "choice_portion = Buffer\n",
       "route_frq = 180"
      ]
     },
     "execution_count": 9,
     "metadata": {},
     "output_type": "execute_result"
    }
   ],
   "source": [
    "nb.config"
   ]
  },
  {
   "cell_type": "code",
   "execution_count": 10,
   "metadata": {},
   "outputs": [],
   "source": [
    "dode = MCDODE(nb, config)"
   ]
  },
  {
   "cell_type": "code",
   "execution_count": 11,
   "metadata": {},
   "outputs": [],
   "source": [
    "dode.add_data(data_dict)"
   ]
  },
  {
   "cell_type": "code",
   "execution_count": 12,
   "metadata": {},
   "outputs": [],
   "source": [
    "(car_flow, truck_flow) = dode.init_path_flow(car_scale = 10, truck_scale = 1)"
   ]
  },
  {
   "cell_type": "code",
   "execution_count": 14,
   "metadata": {},
   "outputs": [
    {
     "name": "stdout",
     "output_type": "stream",
     "text": [
      "Running simulation\n",
      "Getting DAR\n",
      "Evaluating grad\n",
      "car link flow\n",
      "Getting Loss\n",
      "Epoch: 0 Loss: 252.18388177952548\n",
      "Running simulation\n",
      "Getting DAR\n",
      "Evaluating grad\n",
      "car link flow\n",
      "Getting Loss\n",
      "Epoch: 1 Loss: 185.7179129307376\n",
      "Running simulation\n",
      "Getting DAR\n",
      "Evaluating grad\n",
      "car link flow\n",
      "Getting Loss\n",
      "Epoch: 2 Loss: 154.78958002206863\n",
      "Running simulation\n",
      "Getting DAR\n",
      "Evaluating grad\n",
      "car link flow\n",
      "Getting Loss\n",
      "Epoch: 3 Loss: 131.97908765908747\n",
      "Running simulation\n",
      "Getting DAR\n",
      "Evaluating grad\n",
      "car link flow\n",
      "Getting Loss\n",
      "Epoch: 4 Loss: 119.4839582951794\n",
      "Running simulation\n",
      "Getting DAR\n",
      "Evaluating grad\n",
      "car link flow\n",
      "Getting Loss\n",
      "Epoch: 5 Loss: 112.05666301983102\n",
      "Running simulation\n",
      "Getting DAR\n",
      "Evaluating grad\n",
      "car link flow\n",
      "Getting Loss\n",
      "Epoch: 6 Loss: 104.01333066240905\n",
      "Running simulation\n",
      "Getting DAR\n",
      "Evaluating grad\n",
      "car link flow\n",
      "Getting Loss\n",
      "Epoch: 7 Loss: 95.89158922699828\n",
      "Running simulation\n",
      "Getting DAR\n",
      "Evaluating grad\n",
      "car link flow\n",
      "Getting Loss\n",
      "Epoch: 8 Loss: 91.8957772350777\n",
      "Running simulation\n",
      "Getting DAR\n",
      "Evaluating grad\n",
      "car link flow\n",
      "Getting Loss\n",
      "Epoch: 9 Loss: 89.34616894041292\n"
     ]
    },
    {
     "data": {
      "text/plain": [
       "(array([27.20174217, 27.54205355, 39.77528564, 40.59657393, 22.76426227,\n",
       "         7.51970728, 74.89404074,  7.02409473, 37.36884541, 61.92715986,\n",
       "        85.43759953, 34.62954087, 91.40987191, 43.56285872, 62.07660118,\n",
       "        43.30848716, 43.50216905, 93.47949191, 22.43851039, 61.73419499,\n",
       "        77.04859819, 81.32902487, 25.89185514, 20.10636637, 49.22790146,\n",
       "        86.49968646, -0.73009373, 63.70908394, 77.88247688, 11.40076905]),\n",
       " array([ 4.27655465,  3.02252155,  9.95752756,  1.09846818,  5.5960391 ,\n",
       "         6.34331743,  3.37305355,  5.82970791,  8.54937444,  1.23200921,\n",
       "         8.46928265,  7.21486114,  3.13081584,  0.3972414 ,  8.04607899,\n",
       "         8.27360553,  2.92554652,  2.74068411,  6.90166027,  2.27608722,\n",
       "         8.46846067,  2.62379689,  6.92671041,  9.31986087,  6.13315411,\n",
       "        -3.3591045 ,  8.33561803,  1.30007946,  5.5575077 ,  2.08305811]))"
      ]
     },
     "execution_count": 14,
     "metadata": {},
     "output_type": "execute_result"
    }
   ],
   "source": [
    "dode.estimate_path_flow(max_epoch = 10, car_init_scale = 100, truck_init_scale = 10, store_folder = '.')"
   ]
  },
  {
   "cell_type": "code",
   "execution_count": 15,
   "metadata": {},
   "outputs": [],
   "source": [
    "from scipy.sparse import coo_matrix"
   ]
  },
  {
   "cell_type": "code",
   "execution_count": 19,
   "metadata": {},
   "outputs": [
    {
     "data": {
      "text/plain": [
       "<100000000x100000000 sparse matrix of type '<type 'numpy.float64'>'\n",
       "\twith 100000000 stored elements in COOrdinate format>"
      ]
     },
     "execution_count": 19,
     "metadata": {},
     "output_type": "execute_result"
    }
   ],
   "source": [
    "s = np.int(1e8)\n",
    "p = np.random.rand(s)\n",
    "coo_matrix((p, (range(s), range(s))))"
   ]
  },
  {
   "cell_type": "code",
   "execution_count": 18,
   "metadata": {},
   "outputs": [
    {
     "ename": "TypeError",
     "evalue": "'float' object cannot be interpreted as an index",
     "output_type": "error",
     "traceback": [
      "\u001b[0;31m---------------------------------------------------------------------------\u001b[0m",
      "\u001b[0;31mTypeError\u001b[0m                                 Traceback (most recent call last)",
      "\u001b[0;32m<ipython-input-18-db6aacc8835a>\u001b[0m in \u001b[0;36m<module>\u001b[0;34m()\u001b[0m\n\u001b[0;32m----> 1\u001b[0;31m \u001b[0mnp\u001b[0m\u001b[0;34m.\u001b[0m\u001b[0mrandom\u001b[0m\u001b[0;34m.\u001b[0m\u001b[0mrand\u001b[0m\u001b[0;34m(\u001b[0m\u001b[0ms\u001b[0m\u001b[0;34m)\u001b[0m\u001b[0;34m\u001b[0m\u001b[0m\n\u001b[0m",
      "\u001b[0;32mmtrand.pyx\u001b[0m in \u001b[0;36mmtrand.RandomState.rand\u001b[0;34m()\u001b[0m\n",
      "\u001b[0;32mmtrand.pyx\u001b[0m in \u001b[0;36mmtrand.RandomState.random_sample\u001b[0;34m()\u001b[0m\n",
      "\u001b[0;32mmtrand.pyx\u001b[0m in \u001b[0;36mmtrand.cont0_array\u001b[0;34m()\u001b[0m\n",
      "\u001b[0;31mTypeError\u001b[0m: 'float' object cannot be interpreted as an index"
     ]
    }
   ],
   "source": [
    "np.random.rand(s)"
   ]
  },
  {
   "cell_type": "code",
   "execution_count": null,
   "metadata": {},
   "outputs": [],
   "source": []
  }
 ],
 "metadata": {
  "kernelspec": {
   "display_name": "Python 2",
   "language": "python",
   "name": "python2"
  },
  "language_info": {
   "codemirror_mode": {
    "name": "ipython",
    "version": 2
   },
   "file_extension": ".py",
   "mimetype": "text/x-python",
   "name": "python",
   "nbconvert_exporter": "python",
   "pygments_lexer": "ipython2",
   "version": "2.7.10"
  }
 },
 "nbformat": 4,
 "nbformat_minor": 2
}
