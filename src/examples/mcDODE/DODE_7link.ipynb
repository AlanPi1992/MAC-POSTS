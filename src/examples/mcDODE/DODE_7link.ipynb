{
 "cells": [
  {
   "cell_type": "code",
   "execution_count": 1,
   "metadata": {},
   "outputs": [],
   "source": [
    "%load_ext autoreload\n",
    "%autoreload 2"
   ]
  },
  {
   "cell_type": "code",
   "execution_count": 2,
   "metadata": {},
   "outputs": [],
   "source": [
    "import numpy as np\n",
    "import pandas as pd\n",
    "import sys\n",
    "import datetime\n",
    "import os\n",
    "import matplotlib.pyplot as plt\n",
    "import matplotlib\n",
    "import networkx as nx\n",
    "import pickle\n",
    "from collections import OrderedDict\n",
    "import copy\n",
    "from scipy.sparse import csr_matrix\n",
    "from scipy import io\n",
    "import seaborn as sns\n",
    "import joblib\n",
    "# from base import *\n",
    "from joblib import Parallel, delayed\n",
    "import random\n",
    "import scipy"
   ]
  },
  {
   "cell_type": "code",
   "execution_count": 3,
   "metadata": {},
   "outputs": [],
   "source": [
    "MNM_nb_folder = os.path.join('..', '..', '..', 'side_project', 'network_builder')\n",
    "sys.path.append(MNM_nb_folder)\n",
    "python_lib_folder = os.path.join('..', '..', 'pylib')\n",
    "sys.path.append(python_lib_folder)"
   ]
  },
  {
   "cell_type": "code",
   "execution_count": 4,
   "metadata": {},
   "outputs": [],
   "source": [
    "from MNMAPI import *\n",
    "from MNM_mcnb import *\n",
    "from mcDODE import *"
   ]
  },
  {
   "cell_type": "code",
   "execution_count": 5,
   "metadata": {},
   "outputs": [],
   "source": [
    "data_folder = os.path.join('/home/lemma/Documents/MAC-POSTS/data/input_files_7link_multiclass')"
   ]
  },
  {
   "cell_type": "code",
   "execution_count": 6,
   "metadata": {},
   "outputs": [],
   "source": [
    "nb = MNM_network_builder()\n",
    "nb.load_from_folder(data_folder)"
   ]
  },
  {
   "cell_type": "code",
   "execution_count": 7,
   "metadata": {},
   "outputs": [],
   "source": [
    "observed_link_list = [3, 4, 6]\n",
    "ml_car = 2\n",
    "ml_truck = 1\n",
    "data_dict = dict()\n",
    "num_interval = nb.config.config_dict['DTA']['max_interval']\n",
    "true_car_x = np.random.rand(num_interval * len(observed_link_list)) * 100\n",
    "true_truck_x = np.random.rand(num_interval * len(observed_link_list)) * 10\n",
    "L_car_one = np.random.randint(2, size = (ml_car, len(observed_link_list)))\n",
    "L_truck_one = np.random.randint(2, size = (ml_truck, len(observed_link_list)))\n",
    "L_car = csr_matrix(scipy.linalg.block_diag(*[L_car_one for i in range(num_interval)]))\n",
    "L_truck = csr_matrix(scipy.linalg.block_diag(*[L_truck_one for i in range(num_interval)]))\n",
    "m_car = L_car.dot(true_car_x)\n",
    "m_truck = L_truck.dot(true_truck_x)\n",
    "data_dict['car_count_agg_L_list'] = [L_car]\n",
    "data_dict['truck_count_agg_L_list'] = [L_truck]\n",
    "data_dict['car_link_flow'] = [m_car]\n",
    "data_dict['truck_link_flow'] = [m_truck]\n",
    "# data_dict['car_link_tt'] = [m_spd_car]\n",
    "# data_dict['truck_link_tt'] = [m_spd_truck]"
   ]
  },
  {
   "cell_type": "code",
   "execution_count": 8,
   "metadata": {},
   "outputs": [],
   "source": [
    "config = dict()\n",
    "config['use_car_link_flow'] = True\n",
    "config['use_truck_link_flow'] = True\n",
    "config['use_car_link_tt'] = False\n",
    "config['use_truck_link_tt'] = False\n",
    "config['car_count_agg'] = True\n",
    "config['truck_count_agg'] = True\n",
    "config['link_car_flow_weight'] = 1\n",
    "config['link_truck_flow_weight'] = 1\n",
    "config['link_tt_weight'] = 1\n",
    "config['num_data'] = 1\n",
    "config['observed_links'] = observed_link_list\n",
    "config['paths_list'] = range(nb.config.config_dict['FIXED']['num_path'])"
   ]
  },
  {
   "cell_type": "code",
   "execution_count": 9,
   "metadata": {},
   "outputs": [
    {
     "data": {
      "text/plain": [
       "[DTA]\n",
       "network_name = Snap_graph\n",
       "unit_time = 5\n",
       "total_interval = -1\n",
       "assign_frq = 180\n",
       "start_assign_interval = 0\n",
       "max_interval = 10\n",
       "flow_scalar = 10\n",
       "num_of_link = 7\n",
       "num_of_node = 6\n",
       "num_of_O = 1\n",
       "num_of_D = 1\n",
       "OD_pair = 1\n",
       "routing_type = Fixed\n",
       "\n",
       "[STAT]\n",
       "rec_mode = LRn\n",
       "rec_mode_para = 12\n",
       "rec_folder = record\n",
       "rec_volume = 0\n",
       "volume_load_automatic_rec = 0\n",
       "volume_record_automatic_rec = 0\n",
       "rec_tt = 1\n",
       "tt_load_automatic_rec = 0\n",
       "tt_record_automatic_rec = 0\n",
       "\n",
       "[FIXED]\n",
       "path_file_name = path_table\n",
       "num_path = 3\n",
       "choice_portion = Buffer\n",
       "route_frq = 180"
      ]
     },
     "execution_count": 9,
     "metadata": {},
     "output_type": "execute_result"
    }
   ],
   "source": [
    "nb.config"
   ]
  },
  {
   "cell_type": "code",
   "execution_count": 10,
   "metadata": {},
   "outputs": [],
   "source": [
    "dode = MCDODE(nb, config)"
   ]
  },
  {
   "cell_type": "code",
   "execution_count": 11,
   "metadata": {},
   "outputs": [],
   "source": [
    "dode.add_data(data_dict)"
   ]
  },
  {
   "cell_type": "code",
   "execution_count": 12,
   "metadata": {},
   "outputs": [],
   "source": [
    "(car_flow, truck_flow) = dode.init_path_flow(car_scale = 10, truck_scale = 1)"
   ]
  },
  {
   "cell_type": "code",
   "execution_count": 13,
   "metadata": {},
   "outputs": [
    {
     "name": "stdout",
     "output_type": "stream",
     "text": [
      "Iteration 0\n",
      "Running simulation\n",
      "Getting DAR\n",
      "Evaluating grad\n",
      "car link flow\n",
      "Getting Loss\n",
      "Epoch: 0 Loss: 161.92384019891574\n",
      "Iteration 0\n",
      "Running simulation\n",
      "Getting DAR\n",
      "Evaluating grad\n",
      "car link flow\n",
      "Getting Loss\n",
      "Epoch: 1 Loss: 128.35164673126522\n",
      "Iteration 0\n",
      "Running simulation\n",
      "Getting DAR\n",
      "Evaluating grad\n",
      "car link flow\n",
      "Getting Loss\n",
      "Epoch: 2 Loss: 116.34979430801484\n",
      "Iteration 0\n",
      "Running simulation\n",
      "Getting DAR\n",
      "Evaluating grad\n",
      "car link flow\n",
      "Getting Loss\n",
      "Epoch: 3 Loss: 99.65389607396517\n",
      "Iteration 0\n",
      "Running simulation\n",
      "Getting DAR\n",
      "Evaluating grad\n",
      "car link flow\n",
      "Getting Loss\n",
      "Epoch: 4 Loss: 90.89976357226519\n",
      "Iteration 0\n",
      "Running simulation\n",
      "Getting DAR\n",
      "Evaluating grad\n",
      "car link flow\n",
      "Getting Loss\n",
      "Epoch: 5 Loss: 87.24407674177274\n",
      "Iteration 0\n",
      "Running simulation\n",
      "Getting DAR\n",
      "Evaluating grad\n",
      "car link flow\n",
      "Getting Loss\n",
      "Epoch: 6 Loss: 81.4214718595526\n",
      "Iteration 0\n",
      "Running simulation\n",
      "Getting DAR\n",
      "Evaluating grad\n",
      "car link flow\n",
      "Getting Loss\n",
      "Epoch: 7 Loss: 74.84816476730327\n",
      "Iteration 0\n",
      "Running simulation\n",
      "Getting DAR\n",
      "Evaluating grad\n",
      "car link flow\n",
      "Getting Loss\n",
      "Epoch: 8 Loss: 73.48713332959879\n",
      "Iteration 0\n",
      "Running simulation\n",
      "Getting DAR\n",
      "Evaluating grad\n",
      "car link flow\n",
      "Getting Loss\n",
      "Epoch: 9 Loss: 71.76319929819813\n"
     ]
    },
    {
     "data": {
      "text/plain": [
       "(array([93.11639535, 48.63551832, 43.00242307, 79.82386328, 60.19426284,\n",
       "        54.98228509, 79.06066136, 91.56839678, 60.26981665, 31.08762933,\n",
       "        73.43276776, 12.47785832, 36.18787583, 44.44701535, 82.99688631,\n",
       "        24.66455613, 35.65523426, 31.70952052, 42.74398365, 46.2754782 ,\n",
       "        74.01834241, 48.13363709, 43.31683115, 19.49949129, 35.47676208,\n",
       "        39.60118307, 37.00544337, 48.98402736, 14.18938112,  6.74610255]),\n",
       " array([5.75351   , 9.11418723, 4.15091863, 6.78252796, 5.17572428,\n",
       "        9.83711987, 0.57545936, 4.97193775, 4.03601769, 5.53535091,\n",
       "        6.47666424, 2.16141051, 2.22444823, 7.01333095, 1.54264874,\n",
       "        9.39501715, 4.99979072, 9.33531739, 0.42907499, 5.09601769,\n",
       "        6.27576447, 0.64230457, 2.22819768, 8.56882181, 6.93477567,\n",
       "        1.56640866, 4.30011347, 6.23551471, 1.87997233, 0.18980181]))"
      ]
     },
     "execution_count": 13,
     "metadata": {},
     "output_type": "execute_result"
    }
   ],
   "source": [
    "dode.estimate_path_flow(car_init_scale = 100, truck_init_scale = 10)"
   ]
  },
  {
   "cell_type": "code",
   "execution_count": null,
   "metadata": {},
   "outputs": [],
   "source": []
  }
 ],
 "metadata": {
  "kernelspec": {
   "display_name": "Python 2",
   "language": "python",
   "name": "python2"
  },
  "language_info": {
   "codemirror_mode": {
    "name": "ipython",
    "version": 2
   },
   "file_extension": ".py",
   "mimetype": "text/x-python",
   "name": "python",
   "nbconvert_exporter": "python",
   "pygments_lexer": "ipython2",
   "version": "2.7.10"
  }
 },
 "nbformat": 4,
 "nbformat_minor": 2
}
