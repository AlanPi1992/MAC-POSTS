{
 "cells": [
  {
   "cell_type": "code",
   "execution_count": 5,
   "metadata": {},
   "outputs": [],
   "source": [
    "import MNMAPI"
   ]
  },
  {
   "cell_type": "code",
   "execution_count": 6,
   "metadata": {},
   "outputs": [],
   "source": [
    "import os\n",
    "import numpy as np\n",
    "import pandas as pd"
   ]
  },
  {
   "cell_type": "code",
   "execution_count": 7,
   "metadata": {},
   "outputs": [],
   "source": [
    "a = MNMAPI.dta_api()"
   ]
  },
  {
   "cell_type": "code",
   "execution_count": 8,
   "metadata": {},
   "outputs": [
    {
     "data": {
      "text/plain": [
       "0L"
      ]
     },
     "execution_count": 8,
     "metadata": {},
     "output_type": "execute_result"
    }
   ],
   "source": [
    "a.initialize(os.path.join('..', '..', 'data', 'input_files_2link_fix'))"
   ]
  },
  {
   "cell_type": "code",
   "execution_count": 6,
   "metadata": {},
   "outputs": [],
   "source": [
    "# a.initialize(os.path.join('..', '..', 'data', 'input_files_PGH_emission'))"
   ]
  },
  {
   "cell_type": "code",
   "execution_count": 9,
   "metadata": {},
   "outputs": [],
   "source": [
    "# link_list = pd.read_table(os.path.join('..', '..', 'data', 'input_files_PGH_emission', 'MNM_input_link'), sep = ' ')['#ID'].values.astype(np.int)"
   ]
  },
  {
   "cell_type": "code",
   "execution_count": 10,
   "metadata": {},
   "outputs": [
    {
     "data": {
      "text/plain": [
       "0L"
      ]
     },
     "execution_count": 10,
     "metadata": {},
     "output_type": "execute_result"
    }
   ],
   "source": [
    "a.register_links(np.arange(1,5))"
   ]
  },
  {
   "cell_type": "code",
   "execution_count": 18,
   "metadata": {},
   "outputs": [
    {
     "ename": "AttributeError",
     "evalue": "'MNMAPI.dta_api' object has no attribute 'register_paths'",
     "output_type": "error",
     "traceback": [
      "\u001b[0;31m---------------------------------------------------------------------------\u001b[0m",
      "\u001b[0;31mAttributeError\u001b[0m                            Traceback (most recent call last)",
      "\u001b[0;32m<ipython-input-18-3fd231c41d62>\u001b[0m in \u001b[0;36m<module>\u001b[0;34m()\u001b[0m\n\u001b[0;32m----> 1\u001b[0;31m \u001b[0ma\u001b[0m\u001b[0;34m.\u001b[0m\u001b[0mregister_paths\u001b[0m\u001b[0;34m(\u001b[0m\u001b[0mnp\u001b[0m\u001b[0;34m.\u001b[0m\u001b[0marange\u001b[0m\u001b[0;34m(\u001b[0m\u001b[0;36m1\u001b[0m\u001b[0;34m,\u001b[0m \u001b[0;36m3\u001b[0m\u001b[0;34m)\u001b[0m\u001b[0;34m)\u001b[0m\u001b[0;34m\u001b[0m\u001b[0m\n\u001b[0m",
      "\u001b[0;31mAttributeError\u001b[0m: 'MNMAPI.dta_api' object has no attribute 'register_paths'"
     ]
    }
   ],
   "source": [
    "a.register_paths(np.arange(1, 3))"
   ]
  },
  {
   "cell_type": "code",
   "execution_count": 11,
   "metadata": {},
   "outputs": [],
   "source": [
    "# a.register_links(link_list)"
   ]
  },
  {
   "cell_type": "code",
   "execution_count": 12,
   "metadata": {},
   "outputs": [
    {
     "data": {
      "text/plain": [
       "0L"
      ]
     },
     "execution_count": 12,
     "metadata": {},
     "output_type": "execute_result"
    }
   ],
   "source": [
    "a.install_cc()"
   ]
  },
  {
   "cell_type": "code",
   "execution_count": 13,
   "metadata": {},
   "outputs": [
    {
     "data": {
      "text/plain": [
       "0L"
      ]
     },
     "execution_count": 13,
     "metadata": {},
     "output_type": "execute_result"
    }
   ],
   "source": [
    "a.run_whole()"
   ]
  },
  {
   "cell_type": "code",
   "execution_count": 14,
   "metadata": {},
   "outputs": [
    {
     "data": {
      "text/plain": [
       "200L"
      ]
     },
     "execution_count": 14,
     "metadata": {},
     "output_type": "execute_result"
    }
   ],
   "source": [
    "a.get_cur_loading_interval()"
   ]
  },
  {
   "cell_type": "code",
   "execution_count": 15,
   "metadata": {
    "scrolled": true
   },
   "outputs": [
    {
     "data": {
      "text/plain": [
       "array([[ 50. ,   0. ,   0. ,   0. ,   0. ,   0. ,   0. ,   0. ,   0. ,\n",
       "          0. ,   4. ,   0. ,   0. ,   0. ,   0. ,   0. ,   0. ,   0. ,\n",
       "          0. ,   0. ,   4. ,   0. ,   0. ,   0. ,   0. ,   0. ,   0. ,\n",
       "          0. ,   0. ,   0. ],\n",
       "       [ 30. ,   0. ,   0. ,   0. ,   0. ,   0. ,   0. ,   0. ,   0. ,\n",
       "          0. ,   4. ,   0. ,   0. ,   0. ,   0. ,   0. ,   0. ,   0. ,\n",
       "          0. ,   0. ,   4. ,   0. ,   0. ,   0. ,   0. ,   0. ,   0. ,\n",
       "          0. ,   0. ,   0. ],\n",
       "       [  0. ,   3. ,   3. ,   3. ,   3. ,   3. ,   3. ,   3. ,   3. ,\n",
       "          3. ,   3. ,   3. ,   3. ,   3. ,   3. ,   3. ,   3. ,   3. ,\n",
       "          3. ,   3. ,   3. ,   3. ,   3. ,   3. ,   3. ,   3. ,   3. ,\n",
       "          3. ,   2.9,   3. ],\n",
       "       [  0. ,   0. ,   0. ,   0. ,   0. ,   0. ,   0. ,   0. ,   0. ,\n",
       "          0. ,   0. ,   0. ,   0. ,   3. ,   3. ,   2.6,   2.7,   2.7,\n",
       "          2.7,   2.7,   2.7,   2.7,   2.6,   2.7,   2.7,   2.7,   2.7,\n",
       "          2.7,   2.7,   2.7]])"
      ]
     },
     "execution_count": 15,
     "metadata": {},
     "output_type": "execute_result"
    }
   ],
   "source": [
    "a.get_link_inflow(np.arange(0, 30), np.arange(0, 30) + 1)"
   ]
  },
  {
   "cell_type": "code",
   "execution_count": 16,
   "metadata": {
    "scrolled": false
   },
   "outputs": [
    {
     "data": {
      "text/plain": [
       "array([[  3.60003600e-02,   2.74117647e+01,   2.64117647e+01,\n",
       "          2.54117647e+01,   2.44117647e+01,   2.34117647e+01,\n",
       "          2.24117647e+01,   2.14117647e+01,   2.04117647e+01,\n",
       "          1.94117647e+01,   1.84117647e+01,   1.97647059e+01,\n",
       "          1.87647059e+01,   1.77647059e+01,   1.67647059e+01,\n",
       "          1.57647059e+01,   1.47647059e+01,   1.37647059e+01,\n",
       "          1.27647059e+01,   1.17647059e+01,   1.07647059e+01,\n",
       "          1.22500000e+01,   1.12500000e+01,   1.02500000e+01,\n",
       "          9.25000000e+00,   8.25000000e+00,   7.25000000e+00,\n",
       "          6.25000000e+00,   5.25000000e+00,   4.25000000e+00],\n",
       "       [  3.60003600e-02,   2.56923077e+01,   2.46923077e+01,\n",
       "          2.36923077e+01,   2.26923077e+01,   2.16923077e+01,\n",
       "          2.06923077e+01,   1.96923077e+01,   1.86923077e+01,\n",
       "          1.76923077e+01,   1.66923077e+01,   1.88461538e+01,\n",
       "          1.78461538e+01,   1.68461538e+01,   1.58461538e+01,\n",
       "          1.48461538e+01,   1.38461538e+01,   1.28461538e+01,\n",
       "          1.18461538e+01,   1.08461538e+01,   9.84615385e+00,\n",
       "          1.17857143e+01,   1.07857143e+01,   9.78571429e+00,\n",
       "          8.78571429e+00,   7.78571429e+00,   6.78571429e+00,\n",
       "          5.78571429e+00,   4.78571429e+00,   3.78571429e+00],\n",
       "       [  6.40000000e+01,   6.40000000e+01,   1.20000000e+01,\n",
       "          1.20000000e+01,   1.21481481e+01,   1.22592593e+01,\n",
       "          1.23703704e+01,   1.24814815e+01,   1.25925926e+01,\n",
       "          1.27037037e+01,   1.28461538e+01,   1.29629630e+01,\n",
       "          1.30740741e+01,   1.31851852e+01,   1.32962963e+01,\n",
       "          1.34074074e+01,   1.35185185e+01,   1.36296296e+01,\n",
       "          1.37407407e+01,   1.38518519e+01,   1.39629630e+01,\n",
       "          1.40740741e+01,   1.41851852e+01,   1.42962963e+01,\n",
       "          1.44074074e+01,   1.45185185e+01,   1.46538462e+01,\n",
       "          1.47777778e+01,   1.48888889e+01,   1.49629630e+01],\n",
       "       [  3.60003600e-02,   3.60003600e-02,   3.60003600e-02,\n",
       "          3.60003600e-02,   3.60003600e-02,   3.60003600e-02,\n",
       "          3.60003600e-02,   3.60003600e-02,   3.60003600e-02,\n",
       "          3.60003600e-02,   3.60003600e-02,   3.60003600e-02,\n",
       "          3.60003600e-02,   3.60003600e-02,   1.00000000e+00,\n",
       "          1.00000000e+00,   1.00000000e+00,   1.00000000e+00,\n",
       "          1.00000000e+00,   1.00000000e+00,   1.00000000e+00,\n",
       "          1.00000000e+00,   1.00000000e+00,   1.00000000e+00,\n",
       "          1.00000000e+00,   1.00000000e+00,   1.00000000e+00,\n",
       "          1.00000000e+00,   1.00000000e+00,   1.00000000e+00]])"
      ]
     },
     "execution_count": 16,
     "metadata": {},
     "output_type": "execute_result"
    }
   ],
   "source": [
    "a.get_link_tt(np.arange(0, 30))"
   ]
  },
  {
   "cell_type": "code",
   "execution_count": 17,
   "metadata": {},
   "outputs": [
    {
     "ename": "TypeError",
     "evalue": "get_dar_matrix(): incompatible function arguments. The following argument types are supported:\n    1. (self: MNMAPI.dta_api, arg0: numpy.ndarray[int32], arg1: numpy.ndarray[int32], arg2: numpy.ndarray[int32]) -> numpy.ndarray[float64]\n\nInvoked with: <MNMAPI.dta_api object at 0x7f48fad45ae8>, array([ 0,  1,  2,  3,  4,  5,  6,  7,  8,  9, 10, 11, 12, 13, 14, 15, 16,\n       17, 18, 19, 20, 21, 22, 23, 24, 25, 26, 27, 28, 29]), array([ 1,  2,  3,  4,  5,  6,  7,  8,  9, 10, 11, 12, 13, 14, 15, 16, 17,\n       18, 19, 20, 21, 22, 23, 24, 25, 26, 27, 28, 29, 30])",
     "output_type": "error",
     "traceback": [
      "\u001b[0;31m---------------------------------------------------------------------------\u001b[0m",
      "\u001b[0;31mTypeError\u001b[0m                                 Traceback (most recent call last)",
      "\u001b[0;32m<ipython-input-17-a4a25c0619df>\u001b[0m in \u001b[0;36m<module>\u001b[0;34m()\u001b[0m\n\u001b[0;32m----> 1\u001b[0;31m \u001b[0ma\u001b[0m\u001b[0;34m.\u001b[0m\u001b[0mget_dar_matrix\u001b[0m\u001b[0;34m(\u001b[0m\u001b[0mnp\u001b[0m\u001b[0;34m.\u001b[0m\u001b[0marange\u001b[0m\u001b[0;34m(\u001b[0m\u001b[0;36m0\u001b[0m\u001b[0;34m,\u001b[0m \u001b[0;36m30\u001b[0m\u001b[0;34m)\u001b[0m\u001b[0;34m,\u001b[0m \u001b[0mnp\u001b[0m\u001b[0;34m.\u001b[0m\u001b[0marange\u001b[0m\u001b[0;34m(\u001b[0m\u001b[0;36m0\u001b[0m\u001b[0;34m,\u001b[0m \u001b[0;36m30\u001b[0m\u001b[0;34m)\u001b[0m \u001b[0;34m+\u001b[0m \u001b[0;36m1\u001b[0m\u001b[0;34m)\u001b[0m\u001b[0;34m\u001b[0m\u001b[0m\n\u001b[0m",
      "\u001b[0;31mTypeError\u001b[0m: get_dar_matrix(): incompatible function arguments. The following argument types are supported:\n    1. (self: MNMAPI.dta_api, arg0: numpy.ndarray[int32], arg1: numpy.ndarray[int32], arg2: numpy.ndarray[int32]) -> numpy.ndarray[float64]\n\nInvoked with: <MNMAPI.dta_api object at 0x7f48fad45ae8>, array([ 0,  1,  2,  3,  4,  5,  6,  7,  8,  9, 10, 11, 12, 13, 14, 15, 16,\n       17, 18, 19, 20, 21, 22, 23, 24, 25, 26, 27, 28, 29]), array([ 1,  2,  3,  4,  5,  6,  7,  8,  9, 10, 11, 12, 13, 14, 15, 16, 17,\n       18, 19, 20, 21, 22, 23, 24, 25, 26, 27, 28, 29, 30])"
     ]
    }
   ],
   "source": [
    "a.get_dar_matrix(np.arange(0, 30), np.arange(0, 30) + 1)"
   ]
  },
  {
   "cell_type": "code",
   "execution_count": null,
   "metadata": {},
   "outputs": [],
   "source": []
  }
 ],
 "metadata": {
  "kernelspec": {
   "display_name": "Python 2",
   "language": "python",
   "name": "python2"
  },
  "language_info": {
   "codemirror_mode": {
    "name": "ipython",
    "version": 2
   },
   "file_extension": ".py",
   "mimetype": "text/x-python",
   "name": "python",
   "nbconvert_exporter": "python",
   "pygments_lexer": "ipython2",
   "version": "2.7.10"
  }
 },
 "nbformat": 4,
 "nbformat_minor": 2
}
