{
 "cells": [
  {
   "cell_type": "code",
   "execution_count": 1,
   "metadata": {
    "collapsed": false
   },
   "outputs": [],
   "source": [
    "import pandas as pd\n",
    "import sys, os\n",
    "import numpy as np\n",
    "import json\n",
    "import shapefile"
   ]
  },
  {
   "cell_type": "markdown",
   "metadata": {},
   "source": [
    "## Read shapefile"
   ]
  },
  {
   "cell_type": "code",
   "execution_count": 2,
   "metadata": {
    "collapsed": false
   },
   "outputs": [],
   "source": [
    "sf_path = os.path.join('new_link', 'new_link_latlon')\n",
    "link_sf = shapefile.Reader(sf_path)\n",
    "shapeRecs = link_sf.shapeRecords()\n",
    "\n",
    "link_map = {}\n",
    "for data in shapeRecs:\n",
    "    link_map[data.record[1]] = data.shape.points\n",
    "#     print(data.shape.points)\n",
    "#     break"
   ]
  },
  {
   "cell_type": "markdown",
   "metadata": {},
   "source": [
    "## Read link congestion file && process to geojson format"
   ]
  },
  {
   "cell_type": "code",
   "execution_count": 3,
   "metadata": {
    "collapsed": false
   },
   "outputs": [
    {
     "name": "stdout",
     "output_type": "stream",
     "text": [
      "3100209\n",
      "[(-103.49651, 31.39598), (-103.49585, 31.39616), (-103.4952, 31.39638), (-103.49456, 31.39663), (-103.49393, 31.39688), (-103.4927, 31.39734)]\n",
      "[-103.49651, 31.39598, -103.4927, 31.39734]\n",
      "[0]\n",
      "3\n"
     ]
    }
   ],
   "source": [
    "vehloc_path = os.path.join('..', '..', '..', 'data', 'input_files_MckeesRocks_SPC', 'veh_loc', 'veh_loc_raw.txt')\n",
    "# final_str = 'date,longitude,latitude\\n'\n",
    "final_str = ''\n",
    "with open(vehloc_path, 'r') as infile:\n",
    "    lines = infile.readlines()\n",
    "    for line in lines:\n",
    "        data = line.rstrip().split(' ')\n",
    "        time = int(data[1]) // 12\n",
    "        if time < 360:\n",
    "            delta_h = time // 60\n",
    "            delta_m = time % 60\n",
    "            hour = str(5 + delta_h)\n",
    "            if len(hour) == 1:\n",
    "                hour = '0' + hour\n",
    "            if delta_m < 10:\n",
    "                minute = '0' + str(delta_m)\n",
    "            else:\n",
    "                minute = str(delta_m)\n",
    "            link_points = link_map[data[2]]\n",
    "            porportion = float(data[3])\n",
    "            loc = int(np.floor(porportion * len(link_points)))\n",
    "            final_time = '2017-01-01T' + hour + ':' + minute + ':00Z'\n",
    "            final_str += ','.join([str(e) for e in [time, round(link_points[loc][0],7), round(link_points[loc][1], 7)]]) + '\\n'\n",
    "#             print(final_str)\n",
    "#             break\n",
    "\n",
    "out_path = os.path.join('..', '..', '..', 'data', 'input_files_MckeesRocks_SPC', 'veh_loc', 'veh_loc_final.csv')\n",
    "f = open(out_path, 'w')\n",
    "f.write(final_str)\n",
    "f.close()"
   ]
  },
  {
   "cell_type": "code",
   "execution_count": 13,
   "metadata": {
    "collapsed": false
   },
   "outputs": [
    {
     "name": "stdout",
     "output_type": "stream",
     "text": [
      "1916 geotagged features saved to file\n"
     ]
    }
   ],
   "source": [
    "# create a new python dict to contain our geojson data, using geojson format\n",
    "geojson = {'type':'FeatureCollection', 'features':[]}\n",
    "\n",
    "df_by_tmc = df_valid.groupby('TMC')\n",
    "for TMC, data in df_by_tmc:\n",
    "    # create a feature template to fill in\n",
    "    feature = {'type':'Feature',\n",
    "               'properties':{},\n",
    "               'geometry':{'type': 'MultiLineString',\n",
    "                           'coordinates':[]\n",
    "                }}\n",
    "    \n",
    "    for i in range(len(data['LINK_ID'])):\n",
    "        _id = data['LINK_ID'].iloc[i]\n",
    "        feature['geometry']['coordinates'].append(link_table[_id])\n",
    "        \n",
    "    # for each property get the value and add it as a new feature property\n",
    "    e1 = df2[df2['TMC'] == TMC].iloc[0]\n",
    "    feature['properties']['TMC'] = e1['TMC']\n",
    "    feature['properties']['ROAD_NUMBER'] = e1['ROAD_NUMBER']\n",
    "    feature['properties']['ROAD_NAME'] = e1['ROAD_NAME']\n",
    "    feature['properties']['DISTANCE'] = round(e1['DISTANCE'], 2)\n",
    "    feature['properties']['ROAD_DIRECTION'] = e1['ROAD_DIRECTION']\n",
    "    \n",
    "    am_peak_tt_str = ''\n",
    "    am_peak_speed_str = ''    \n",
    "    if speed_val[TMC]['AM_Peak_All'] != 0:\n",
    "        am_peak_tt_str += str(round(speed_val[TMC]['AM_Peak_All'], 2)) + ' '\n",
    "        am_peak_speed_str += str(round(e1['DISTANCE']/speed_val[TMC]['AM_Peak_All']*3600, 2)) + ' '\n",
    "        feature['properties']['AM_SPEED_ALL'] = round(e1['DISTANCE']/speed_val[TMC]['AM_Peak_All']*3600, 2)\n",
    "    else:\n",
    "        am_peak_tt_str += ' N/A  '\n",
    "        am_peak_speed_str += ' N/A  '\n",
    "        feature['properties']['AM_SPEED_ALL'] = 0\n",
    "    if speed_val[TMC]['AM_Peak_Car'] != 0:\n",
    "        am_peak_tt_str += str(round(speed_val[TMC]['AM_Peak_Car'], 2)) + ' '\n",
    "        am_peak_speed_str += str(round(e1['DISTANCE']/speed_val[TMC]['AM_Peak_Car']*3600, 2)) + ' '\n",
    "        feature['properties']['AM_SPEED_CAR'] = round(e1['DISTANCE']/speed_val[TMC]['AM_Peak_Car']*3600, 2)\n",
    "    else:\n",
    "        am_peak_tt_str += ' N/A  '\n",
    "        am_peak_speed_str += ' N/A  '\n",
    "        feature['properties']['AM_SPEED_CAR'] = 0\n",
    "    if speed_val[TMC]['AM_Peak_Truck'] != 0:\n",
    "        am_peak_tt_str += str(round(speed_val[TMC]['AM_Peak_Truck'], 2)) + ' '\n",
    "        am_peak_speed_str += str(round(e1['DISTANCE']/speed_val[TMC]['AM_Peak_Truck']*3600, 2)) + ' '\n",
    "        feature['properties']['AM_SPEED_TRUCK'] = round(e1['DISTANCE']/speed_val[TMC]['AM_Peak_Truck']*3600, 2)\n",
    "    else:\n",
    "        am_peak_tt_str += ' N/A  '\n",
    "        am_peak_speed_str += ' N/A  '\n",
    "        feature['properties']['AM_SPEED_TRUCK'] = 0\n",
    "        \n",
    "    pm_peak_tt_str = ''\n",
    "    pm_peak_speed_str = ''    \n",
    "    if speed_val[TMC]['PM_Peak_All'] != 0:\n",
    "        pm_peak_tt_str += str(round(speed_val[TMC]['PM_Peak_All'], 2)) + ' '\n",
    "        pm_peak_speed_str += str(round(e1['DISTANCE']/speed_val[TMC]['PM_Peak_All']*3600, 2)) + ' '\n",
    "        feature['properties']['PM_SPEED_ALL'] = round(e1['DISTANCE']/speed_val[TMC]['PM_Peak_All']*3600, 2)\n",
    "    else:\n",
    "        pm_peak_tt_str += ' N/A  '\n",
    "        pm_peak_speed_str += ' N/A  '\n",
    "        feature['properties']['PM_SPEED_ALL'] = 0\n",
    "    if speed_val[TMC]['PM_Peak_Car'] != 0:\n",
    "        pm_peak_tt_str += str(round(speed_val[TMC]['PM_Peak_Car'], 2)) + ' '\n",
    "        pm_peak_speed_str += str(round(e1['DISTANCE']/speed_val[TMC]['PM_Peak_Car']*3600, 2)) + ' '\n",
    "        feature['properties']['PM_SPEED_CAR'] = round(e1['DISTANCE']/speed_val[TMC]['PM_Peak_Car']*3600, 2)\n",
    "    else:\n",
    "        pm_peak_tt_str += ' N/A  '\n",
    "        pm_peak_speed_str += ' N/A  '\n",
    "        feature['properties']['PM_SPEED_CAR'] = 0\n",
    "    if speed_val[TMC]['PM_Peak_Truck'] != 0:\n",
    "        pm_peak_tt_str += str(round(speed_val[TMC]['PM_Peak_Truck'], 2)) + ' '\n",
    "        pm_peak_speed_str += str(round(e1['DISTANCE']/speed_val[TMC]['PM_Peak_Truck']*3600, 2)) + ' '\n",
    "        feature['properties']['PM_SPEED_TRUCK'] = round(e1['DISTANCE']/speed_val[TMC]['PM_Peak_Truck']*3600, 2)\n",
    "    else:\n",
    "        pm_peak_tt_str += ' N/A  '\n",
    "        pm_peak_speed_str += ' N/A  '\n",
    "        feature['properties']['PM_SPEED_TRUCK'] = 0\n",
    "    \n",
    "    feature['properties']['AM_PEAK_TT'] = am_peak_tt_str\n",
    "    feature['properties']['AM_PEAK_SPEED'] = am_peak_speed_str\n",
    "    feature['properties']['PM_PEAK_TT'] = pm_peak_tt_str\n",
    "    feature['properties']['PM_PEAK_SPEED'] = pm_peak_speed_str\n",
    "    \n",
    "    # add this feature to the list of features inside our dict\n",
    "    geojson['features'].append(feature)\n",
    "    \n",
    "geojson_str = json.dumps(geojson, indent=2)\n",
    "# save the geojson result to a file\n",
    "output_filename = 'Speed_from_HERE_alldata.js'\n",
    "with open(output_filename, 'w') as output_file:\n",
    "    output_file.write('var data_speed = {};'.format(geojson_str))\n",
    "\n",
    "# how many features did we save to the geojson file?\n",
    "print('{} geotagged features saved to file'.format(len(geojson['features'])))"
   ]
  },
  {
   "cell_type": "code",
   "execution_count": null,
   "metadata": {
    "collapsed": true
   },
   "outputs": [],
   "source": []
  }
 ],
 "metadata": {
  "anaconda-cloud": {},
  "kernelspec": {
   "display_name": "Python [conda root]",
   "language": "python",
   "name": "conda-root-py"
  },
  "language_info": {
   "codemirror_mode": {
    "name": "ipython",
    "version": 3
   },
   "file_extension": ".py",
   "mimetype": "text/x-python",
   "name": "python",
   "nbconvert_exporter": "python",
   "pygments_lexer": "ipython3",
   "version": "3.5.2"
  }
 },
 "nbformat": 4,
 "nbformat_minor": 1
}
