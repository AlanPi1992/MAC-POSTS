{
 "cells": [
  {
   "cell_type": "code",
   "execution_count": 3,
   "metadata": {
    "collapsed": true
   },
   "outputs": [],
   "source": [
    "import os\n",
    "import pandas as pd\n",
    "import numpy as np\n",
    "import sys\n",
    "import shapefile\n",
    "import operator"
   ]
  },
  {
   "cell_type": "code",
   "execution_count": 4,
   "metadata": {
    "collapsed": true
   },
   "outputs": [],
   "source": [
    "out_path = os.path.join('..', '..', 'data', 'input_files_MckeesRocks_SPC')\n",
    "demand_file_name = 'MNM_input_demand'"
   ]
  },
  {
   "cell_type": "code",
   "execution_count": 17,
   "metadata": {
    "collapsed": false
   },
   "outputs": [
    {
     "name": "stdout",
     "output_type": "stream",
     "text": [
      "[9749.987000737812, 9749.987000737812, 10429.427865084095, 10422.405014732967, 10709.226416012487, 10709.226416012487, 11351.311333607162, 11382.790902600838, 11805.340124867918, 11805.340124867918, 12530.553413498124, 12519.242609836248, 11653.934424607962, 11653.934424607962, 12479.67178889368, 12508.143102849719, 10587.822255541521, 10587.822255541521, 11361.987526957799, 11370.624878400116, 9729.669967741722, 9729.669967741722, 10408.283554035135, 10431.527097247319, 649.9991333825132, 649.9991333825132, 695.2951910055964, 694.8270009821941, 713.9484277341613, 713.9484277341613, 756.7540889071514, 758.8527268400628, 787.0226749912048, 787.0226749912048, 835.3702275665449, 834.6161739890848, 776.9289616405201, 776.9289616405201, 831.9781192595703, 833.8762068566336, 705.8548170361105, 705.8548170361105, 757.4658351305242, 758.0416585600055, 648.6446645161172, 648.6446645161172, 693.8855702689934, 695.435139816486]\n",
      "283379.1247645461\n"
     ]
    }
   ],
   "source": [
    "demand_str = '# Origin_ID Destination_ID <demand by interval> <truck demand by interval>\\n'\n",
    "\n",
    "with open(demand_file_name, 'r') as infile:\n",
    "    for line in infile.readlines():\n",
    "        if line[0] != '#':\n",
    "            demands = line.rstrip('\\n').split(' ')\n",
    "            num_int = (len(demands) - 2)\n",
    "            int_sums = [0 for i in range(num_int*2)]\n",
    "            break\n",
    "\n",
    "with open(demand_file_name, 'r') as infile:\n",
    "    for line in infile.readlines():\n",
    "        if line[0] != '#':\n",
    "            demands = line.rstrip('\\n').split(' ')\n",
    "            for i in range(2, 2+num_int):\n",
    "                demands[i] = str(float(demands[i]) / 3.2)\n",
    "            for i in range(6):\n",
    "                demands[2 + i*4] = demands[2 + i*4 + 1]\n",
    "            for i in range(2, 2+4):\n",
    "                demands[i] = str(float(demands[i]) / 1.2)\n",
    "            for i in range(2+4, 2+8):\n",
    "                demands[i] = str(float(demands[i]) / 1.1)\n",
    "            for i in range(2+16, 2+20):\n",
    "                demands[i] = str(float(demands[i]) / 1.1)\n",
    "            for i in range(2+20, 2+24):\n",
    "                demands[i] = str(float(demands[i]) / 1.2)\n",
    "            \n",
    "            for i in range(2, 2+num_int):\n",
    "                demands[i] = str(float(demands[i]) * 1.1)\n",
    "                \n",
    "            demands += [str(float(e)/15) for e in demands[2 : 2 + num_int]]\n",
    "            demand_str += ' '.join(demands) + '\\n'\n",
    "            \n",
    "            for i in range(num_int):\n",
    "                int_sums[i] += float(demands[2 + i])\n",
    "                int_sums[i + num_int] += float(demands[2 + i + num_int])\n",
    "                \n",
    "print(int_sums)\n",
    "print(sum(int_sums))\n",
    "\n",
    "f = open(os.path.join(out_path, demand_file_name), 'w')\n",
    "f.write(demand_str)\n",
    "f.close()"
   ]
  },
  {
   "cell_type": "code",
   "execution_count": 7,
   "metadata": {
    "collapsed": false
   },
   "outputs": [],
   "source": [
    "# demand_str = '# Origin_ID Destination_ID <demand by interval> <truck demand by interval>\\n'\n",
    "\n",
    "# hour = 5\n",
    "\n",
    "# with open(demand_file_name, 'r') as infile:\n",
    "#     for line in infile.readlines():\n",
    "#         if line[0] != '#':\n",
    "#             demands = line.rstrip('\\n').split(' ')\n",
    "#             num_int = (len(demands) - 2) * hour\n",
    "#             int_sums = [0 for i in range(num_int)]\n",
    "#             break\n",
    "\n",
    "# with open(demand_file_name, 'r') as infile:\n",
    "#     for line in infile.readlines():\n",
    "#         if line[0] != '#':\n",
    "#             demands = line.rstrip('\\n').split(' ')\n",
    "#             for i in range(2, 5):\n",
    "#                 demands[i] = demands[i + 1]\n",
    "        \n",
    "#             for i in range(2, 6):\n",
    "#                 demands[i] = str(float(demands[i]) / 3)\n",
    "#             for i in range(hour-1):\n",
    "#                 demands += demands[2:6]\n",
    "                \n",
    "#             demands += ['0' for i in range(num_int)]\n",
    "#             demand_str += ' '.join(demands) + '\\n'\n",
    "            \n",
    "#             for i in range(num_int):\n",
    "#                 int_sums[i] += float(demands[2 + i])\n",
    "                \n",
    "# print(int_sums)\n",
    "# print(sum(int_sums)*2)\n",
    "\n",
    "# f = open(os.path.join(out_path, demand_file_name), 'w')\n",
    "# f.write(demand_str)\n",
    "# f.close()"
   ]
  },
  {
   "cell_type": "code",
   "execution_count": null,
   "metadata": {
    "collapsed": true
   },
   "outputs": [],
   "source": []
  }
 ],
 "metadata": {
  "anaconda-cloud": {},
  "kernelspec": {
   "display_name": "Python [conda root]",
   "language": "python",
   "name": "conda-root-py"
  },
  "language_info": {
   "codemirror_mode": {
    "name": "ipython",
    "version": 3
   },
   "file_extension": ".py",
   "mimetype": "text/x-python",
   "name": "python",
   "nbconvert_exporter": "python",
   "pygments_lexer": "ipython3",
   "version": "3.5.2"
  }
 },
 "nbformat": 4,
 "nbformat_minor": 1
}
