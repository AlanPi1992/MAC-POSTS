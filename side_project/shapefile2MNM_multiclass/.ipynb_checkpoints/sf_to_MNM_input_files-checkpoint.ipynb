{
 "cells": [
  {
   "cell_type": "code",
   "execution_count": 1,
   "metadata": {
    "collapsed": true
   },
   "outputs": [],
   "source": [
    "import os\n",
    "import pandas as pd\n",
    "import numpy as np\n",
    "import sys\n",
    "import shapefile\n",
    "import operator"
   ]
  },
  {
   "cell_type": "markdown",
   "metadata": {},
   "source": [
    "## Read shapefiles"
   ]
  },
  {
   "cell_type": "code",
   "execution_count": 2,
   "metadata": {
    "collapsed": false
   },
   "outputs": [
    {
     "name": "stdout",
     "output_type": "stream",
     "text": [
      "['8290', '1', '2114', '25', '1', '0.04', '0', '8290', 1388147.792, 448212.542, 1387767.306, 449855.597]\n"
     ]
    }
   ],
   "source": [
    "sf_link = os.path.join('directed', 'new_link')\n",
    "sf_node = os.path.join('directed', 'new_node')\n",
    "\n",
    "link_sf = shapefile.Reader(sf_link)\n",
    "link_records = link_sf.records()\n",
    "node_sf = shapefile.Reader(sf_node)\n",
    "node_records = node_sf.records()\n",
    "\n",
    "for data in link_records:\n",
    "    print(data)\n",
    "    break"
   ]
  },
  {
   "cell_type": "code",
   "execution_count": 3,
   "metadata": {
    "collapsed": false
   },
   "outputs": [
    {
     "data": {
      "text/plain": [
       "[('DeletionFlag', 'C', 1, 0),\n",
       " ['linkID', 'C', 80, 0],\n",
       " ['N1', 'C', 80, 0],\n",
       " ['N2', 'C', 80, 0],\n",
       " ['spd', 'C', 80, 0],\n",
       " ['lanes', 'C', 80, 0],\n",
       " ['l', 'C', 80, 0],\n",
       " ['isOD', 'C', 80, 0],\n",
       " ['note', 'C', 80, 0],\n",
       " ['X1', 'N', 11, 3],\n",
       " ['Y1', 'N', 11, 3],\n",
       " ['X2', 'N', 11, 3],\n",
       " ['Y2', 'N', 11, 3]]"
      ]
     },
     "execution_count": 3,
     "metadata": {},
     "output_type": "execute_result"
    }
   ],
   "source": [
    "link_sf.fields"
   ]
  },
  {
   "cell_type": "code",
   "execution_count": 4,
   "metadata": {
    "collapsed": false
   },
   "outputs": [
    {
     "name": "stdout",
     "output_type": "stream",
     "text": [
      "[1, 0]\n"
     ]
    }
   ],
   "source": [
    "for data in node_records:\n",
    "    print(data)\n",
    "    break"
   ]
  },
  {
   "cell_type": "code",
   "execution_count": 5,
   "metadata": {
    "collapsed": false
   },
   "outputs": [
    {
     "data": {
      "text/plain": [
       "[('DeletionFlag', 'C', 1, 0), ['ID', 'N', 9, 0], ['isOD', 'N', 9, 0]]"
      ]
     },
     "execution_count": 5,
     "metadata": {},
     "output_type": "execute_result"
    }
   ],
   "source": [
    "node_sf.fields"
   ]
  },
  {
   "cell_type": "code",
   "execution_count": 6,
   "metadata": {
    "collapsed": false,
    "scrolled": true
   },
   "outputs": [
    {
     "name": "stdout",
     "output_type": "stream",
     "text": [
      "0\n"
     ]
    }
   ],
   "source": [
    "# check if some O directly link to some D, if 0 it is good!\n",
    "node_isod ={}\n",
    "for data in node_records:\n",
    "    node_isod[data[0]] = data[1]\n",
    "_count = 0\n",
    "for data in link_records:\n",
    "    if node_isod[int(data[1])] and node_isod[int(data[2])]:\n",
    "        print(data)\n",
    "#         print(\"{}, {}\".format(node_isod[int(data[1])], node_isod[int(data[2])]))\n",
    "        _count += 1\n",
    "print(_count)"
   ]
  },
  {
   "cell_type": "code",
   "execution_count": 14,
   "metadata": {
    "collapsed": false
   },
   "outputs": [
    {
     "name": "stdout",
     "output_type": "stream",
     "text": [
      "839\n"
     ]
    }
   ],
   "source": [
    "# check if some link length=0, change to 0.01?\n",
    "_count = 0\n",
    "for data in link_records:\n",
    "    if float(data[5]) == 0:\n",
    "        data[5] = '0.01'\n",
    "        print(data)\n",
    "        _count += 1\n",
    "print(_count)"
   ]
  },
  {
   "cell_type": "code",
   "execution_count": 15,
   "metadata": {
    "collapsed": false
   },
   "outputs": [
    {
     "name": "stdout",
     "output_type": "stream",
     "text": [
      "0\n"
     ]
    }
   ],
   "source": [
    "_count = 0\n",
    "for data in link_records:\n",
    "    if float(data[5]) == 0:\n",
    "        _count += 1\n",
    "print(_count)"
   ]
  },
  {
   "cell_type": "markdown",
   "metadata": {},
   "source": [
    "## MNM_input_link"
   ]
  },
  {
   "cell_type": "code",
   "execution_count": 20,
   "metadata": {
    "collapsed": true
   },
   "outputs": [],
   "source": [
    "out_path = 'input_files_MckeesRocks_SPC'\n",
    "\n",
    "config_file_name = 'config.conf'\n",
    "link_file_name = 'MNM_input_link'\n",
    "node_file_name = 'MNM_input_node'\n",
    "graph_file_name = 'Snap_graph'\n",
    "od_file_name = 'MNM_input_od'\n",
    "pathtable_file_name = 'path_table'\n",
    "path_p_file_name = 'path_table_buffer'\n",
    "demand_file_name = 'MNM_input_demand'"
   ]
  },
  {
   "cell_type": "code",
   "execution_count": 21,
   "metadata": {
    "collapsed": false
   },
   "outputs": [],
   "source": [
    "link_str = '# ID Type LEN(mile) FFS(mile/h) Cap(v/hour) RHOJ(v/miles) Lane FFS_truck(mile/h) Cap_truck(v/hour) RHOJ_truck(v/miles) Convert_factor(1)\\n'\n",
    "\n",
    "veh_len_ratio = 0.5 # when jam, in average, (length occupied by 1 car) / (length occupied by 1 truck)\n",
    "veh_headway_ratio = 0.75 # when max flux, in average, (length occupied by 1 car) / (length occupied by 1 truck)\n",
    "convert_fc = 2\n",
    "for data in link_records:\n",
    "    _len = data[5]\n",
    "    _lane = data[4]\n",
    "    _cap_car = 2300\n",
    "    _cap_truck = _cap_car * veh_headway_ratio\n",
    "    _rhoJ_car = 200\n",
    "    _rhoJ_truck = _rhoJ_car * veh_len_ratio\n",
    "    _ffs_car = float(data[3])\n",
    "    _ffs_truck = _ffs_car * 0.75\n",
    "    if _ffs_car <= 15:\n",
    "        _cap_car = 1500\n",
    "        _cap_truck = _cap_car * veh_headway_ratio\n",
    "        _ffs_truck = _ffs_car * 0.9\n",
    "    elif _ffs_car < 25:\n",
    "        _cap_car = 1800\n",
    "        _cap_truck = _cap_car * veh_headway_ratio\n",
    "        _ffs_truck = _ffs_car * 0.85\n",
    "    elif _ffs_car < 40:\n",
    "        _cap_car = 2000\n",
    "        _cap_truck = _cap_car * veh_headway_ratio\n",
    "        _ffs_truck = _ffs_car * 0.8\n",
    "    \n",
    "    _type = 'CTM'\n",
    "    if data[6] == '1': # is_OD\n",
    "        _type = 'PQ'\n",
    "        _len = 1\n",
    "        _lane = 1\n",
    "        _cap_car = 99999\n",
    "        _cap_truck = 99999\n",
    "        _ffs_car = 99999\n",
    "        _ffs_truck = 99999\n",
    "        _rhoJ_car = 99999\n",
    "        _rhoJ_truck = 99999\n",
    "        \n",
    "    useful = [data[0], _type, _len, _ffs_car, _cap_car, _rhoJ_car, _lane, _ffs_truck, _cap_truck, _rhoJ_truck, convert_fc]\n",
    "    newline = ' '.join([str(e) for e in useful]) + '\\n'\n",
    "    link_str += newline\n",
    "\n",
    "if not os.path.isdir(out_path):\n",
    "    os.makedirs(out_path)\n",
    "f = open(os.path.join(out_path, link_file_name), 'w')\n",
    "f.write(link_str)\n",
    "f.close()"
   ]
  },
  {
   "cell_type": "markdown",
   "metadata": {},
   "source": [
    "## MNM_input_node"
   ]
  },
  {
   "cell_type": "code",
   "execution_count": 22,
   "metadata": {
    "collapsed": false
   },
   "outputs": [
    {
     "data": {
      "text/plain": [
       "6393"
      ]
     },
     "execution_count": 22,
     "metadata": {},
     "output_type": "execute_result"
    }
   ],
   "source": [
    "node_str = '# ID Type Convert_factor\\n'\n",
    "node_to_DMOND = {}\n",
    "node_to_DMDND = {}\n",
    "_cur_ind_DMOND = 100001\n",
    "_cur_ind_DMDND = 150001\n",
    "node_count = 0\n",
    "# In-out node\n",
    "for data in node_records:\n",
    "    _id = data[0]\n",
    "    if data[1] == 1: # is_OD\n",
    "        node_to_DMOND[_id] = _cur_ind_DMOND\n",
    "        node_to_DMDND[_id] = _cur_ind_DMDND\n",
    "        _cur_ind_DMOND += 1\n",
    "        _cur_ind_DMDND += 1\n",
    "        node_count += 2\n",
    "    else:\n",
    "        useful = [_id, 'FWJ', convert_fc]\n",
    "        newline = ' '.join([str(e) for e in useful]) + '\\n'\n",
    "        node_str += newline\n",
    "        node_count += 1\n",
    "\n",
    "# DMOND\n",
    "for v in sorted(node_to_DMOND.items(), key=operator.itemgetter(1)):\n",
    "    useful = [v[1], 'DMOND', convert_fc]\n",
    "    newline = ' '.join([str(e) for e in useful]) + '\\n'\n",
    "    node_str += newline\n",
    "# DMOND\n",
    "for v in sorted(node_to_DMDND.items(), key=operator.itemgetter(1)):\n",
    "    useful = [v[1], 'DMDND', convert_fc]\n",
    "    newline = ' '.join([str(e) for e in useful]) + '\\n'\n",
    "    node_str += newline\n",
    "    \n",
    "if not os.path.isdir(out_path):\n",
    "    os.makedirs(out_path)\n",
    "f = open(os.path.join(out_path, node_file_name), 'w')\n",
    "f.write(node_str)\n",
    "f.close()\n",
    "\n",
    "node_count"
   ]
  },
  {
   "cell_type": "markdown",
   "metadata": {},
   "source": [
    "## Snap_graph"
   ]
  },
  {
   "cell_type": "code",
   "execution_count": 23,
   "metadata": {
    "collapsed": true
   },
   "outputs": [],
   "source": [
    "graph_str = '# EdgeId FromNodeId ToNodeId\\n'\n",
    "for data in link_records:\n",
    "    _id = data[0]\n",
    "    _from = int(data[1])\n",
    "    _to = int(data[2])\n",
    "    if _from in node_to_DMOND:\n",
    "        _from = node_to_DMOND[_from]\n",
    "    if _to in node_to_DMDND:\n",
    "        _to = node_to_DMDND[_to]\n",
    "        \n",
    "    useful = [_id, _from, _to]\n",
    "    newline = ' '.join([str(e) for e in useful]) + '\\n'\n",
    "    graph_str += newline\n",
    "\n",
    "if not os.path.isdir(out_path):\n",
    "    os.makedirs(out_path)\n",
    "f = open(os.path.join(out_path, graph_file_name), 'w')\n",
    "f.write(graph_str)\n",
    "f.close()"
   ]
  },
  {
   "cell_type": "markdown",
   "metadata": {},
   "source": [
    "## MNM_input_od"
   ]
  },
  {
   "cell_type": "code",
   "execution_count": 24,
   "metadata": {
    "collapsed": false
   },
   "outputs": [],
   "source": [
    "od_str = '# Origin_ID <-> node_ID\\n'\n",
    "all_origins = []\n",
    "for v in sorted(node_to_DMOND.items(), key=operator.itemgetter(1)):\n",
    "    od_str += ' '.join([str(e) for e in [v[1] + 100000, v[1]]]) + '\\n'\n",
    "    all_origins.append(v[1] + 100000)\n",
    "\n",
    "all_destinations = []\n",
    "od_str += '# Dest_ID <-> node_ID\\n'\n",
    "for v in sorted(node_to_DMDND.items(), key=operator.itemgetter(1)):\n",
    "    od_str += ' '.join([str(e) for e in [v[1] + 100000, v[1]]]) + '\\n'\n",
    "    all_destinations.append(v[1] + 100000)\n",
    "\n",
    "if not os.path.isdir(out_path):\n",
    "    os.makedirs(out_path)\n",
    "f = open(os.path.join(out_path, od_file_name), 'w')\n",
    "f.write(od_str)\n",
    "f.close()"
   ]
  },
  {
   "cell_type": "markdown",
   "metadata": {},
   "source": [
    "## MNM_input_demand"
   ]
  },
  {
   "cell_type": "code",
   "execution_count": 25,
   "metadata": {
    "collapsed": true
   },
   "outputs": [],
   "source": [
    "demand_str = '# Origin_ID Destination_ID <demand by interval> <truck demand by interval>\\n'\n",
    "\n",
    "# Randomly generate some demand for debug\n",
    "# 20 intervals * 15 min/interval = 5 hours\n",
    "np.random.seed(0)\n",
    "\n",
    "for o in all_origins:\n",
    "    for d in all_destinations:\n",
    "        s_car = np.random.uniform(0, 1, 20)\n",
    "        vari = np.random.uniform(-0.2, 0.2, 20)\n",
    "        s_truck = s_car * (1 + vari) / 10\n",
    "        demand_str += ' '.join([str(e) for e in ([o, d] + list(s_car) + list(s_truck))]) + '\\n'\n",
    "\n",
    "if not os.path.isdir(out_path):\n",
    "    os.makedirs(out_path)\n",
    "f = open(os.path.join(out_path, demand_file_name), 'w')\n",
    "f.write(demand_str)\n",
    "f.close()"
   ]
  },
  {
   "cell_type": "markdown",
   "metadata": {},
   "source": [
    "## path_table & path_table_buffer"
   ]
  },
  {
   "cell_type": "code",
   "execution_count": 26,
   "metadata": {
    "collapsed": true
   },
   "outputs": [],
   "source": [
    "# To be completed...\n",
    "path_table_str = ''\n",
    "\n",
    "# if not os.path.isdir(out_path):\n",
    "#     os.makedirs(out_path)\n",
    "# f = open(os.path.join(out_path, pathtable_file_name), 'w')\n",
    "# f.write(path_table_str)\n",
    "# f.close()\n",
    "\n",
    "\n",
    "path_p_str = ''\n",
    "\n",
    "# if not os.path.isdir(out_path):\n",
    "#     os.makedirs(out_path)\n",
    "# f = open(os.path.join(out_path, path_p_file_name), 'w')\n",
    "# f.write(path_p_str)\n",
    "# f.close()"
   ]
  },
  {
   "cell_type": "markdown",
   "metadata": {},
   "source": [
    "## config.conf"
   ]
  },
  {
   "cell_type": "code",
   "execution_count": 27,
   "metadata": {
    "collapsed": false
   },
   "outputs": [],
   "source": [
    "DTA_FIELDS = [('network_name', 'Snap_graph'), ('unit_time', 5), ('total_interval', 5000), ('assign_frq', 180),\n",
    "              ('start_assign_interval', 0), ('max_interval', 20), ('flow_scalar', 2), ('num_of_link', len(link_records)),\n",
    "              ('num_of_node', node_count), ('num_of_O', len(all_origins)), ('num_of_D', len(all_destinations)),\n",
    "              ('OD_pair', len(all_origins) * len(all_destinations)), ('routing_type', 'Hybrid')]\n",
    "\n",
    "STAT_FIELDS = [('rec_mode', 'LRn'), ('rec_mode_para', 2), ('rec_folder', 'record'), ('rec_volume', 1), \n",
    "               ('volume_load_automatic_rec', 0), ('volume_record_automatic_rec', 1), ('rec_tt', 1), \n",
    "               ('tt_load_automatic_rec', 0), ('tt_record_automatic_rec', 0)]\n",
    "\n",
    "HYBRID_FIELDS = [('route_frq', 60)]\n",
    "\n",
    "FIXED_FIELDS = [('path_file_name', 'path_table'), ('num_path', 100), ('choice_portion', 'Buffer'), ('route_frq', 10)]\n",
    "\n",
    "config_str = '[DTA]\\n'\n",
    "for v in DTA_FIELDS:\n",
    "    config_str += \"{} = {}\\n\".format(str(v[0]), str(v[1]))\n",
    "\n",
    "config_str += '\\n[STAT]\\n'\n",
    "for v in STAT_FIELDS:\n",
    "    config_str += \"{} = {}\\n\".format(str(v[0]), str(v[1]))\n",
    "\n",
    "config_str += '\\n[HYBRID]\\n'\n",
    "for v in HYBRID_FIELDS:\n",
    "    config_str += \"{} = {}\\n\".format(str(v[0]), str(v[1]))\n",
    "    \n",
    "config_str += '\\n[FIXED]\\n'\n",
    "for v in FIXED_FIELDS:\n",
    "    config_str += \"{} = {}\\n\".format(str(v[0]), str(v[1]))\n",
    "    \n",
    "if not os.path.isdir(out_path):\n",
    "    os.makedirs(out_path)\n",
    "f = open(os.path.join(out_path, config_file_name), 'w')\n",
    "f.write(config_str)\n",
    "f.close()"
   ]
  },
  {
   "cell_type": "code",
   "execution_count": null,
   "metadata": {
    "collapsed": true
   },
   "outputs": [],
   "source": []
  }
 ],
 "metadata": {
  "anaconda-cloud": {},
  "kernelspec": {
   "display_name": "Python [conda root]",
   "language": "python",
   "name": "conda-root-py"
  },
  "language_info": {
   "codemirror_mode": {
    "name": "ipython",
    "version": 3
   },
   "file_extension": ".py",
   "mimetype": "text/x-python",
   "name": "python",
   "nbconvert_exporter": "python",
   "pygments_lexer": "ipython3",
   "version": "3.5.2"
  }
 },
 "nbformat": 4,
 "nbformat_minor": 1
}
