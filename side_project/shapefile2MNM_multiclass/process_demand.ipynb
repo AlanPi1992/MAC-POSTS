{
 "cells": [
  {
   "cell_type": "code",
   "execution_count": 11,
   "metadata": {
    "collapsed": true
   },
   "outputs": [],
   "source": [
    "import os\n",
    "import pandas as pd\n",
    "import numpy as np\n",
    "import sys\n",
    "import shapefile\n",
    "import operator"
   ]
  },
  {
   "cell_type": "code",
   "execution_count": 12,
   "metadata": {
    "collapsed": true
   },
   "outputs": [],
   "source": [
    "out_path = os.path.join('..', '..', 'data', 'input_files_MckeesRocks_SPC')\n",
    "demand_file_name = 'MNM_input_demand'"
   ]
  },
  {
   "cell_type": "code",
   "execution_count": 26,
   "metadata": {
    "collapsed": false
   },
   "outputs": [
    {
     "name": "stdout",
     "output_type": "stream",
     "text": [
      "[12311.28195802175, 13351.616982091316, 13338.449966376234, 13338.449966376234, 12311.28195802175, 13351.616982091316, 13338.449966376234, 13338.449966376234, 12311.28195802175, 13351.616982091316, 13338.449966376234, 13338.449966376234, 12311.28195802175, 13351.616982091316, 13338.449966376234, 13338.449966376234, 12311.28195802175, 13351.616982091316, 13338.449966376234, 13338.449966376234]\n",
      "523397.9887286554\n"
     ]
    }
   ],
   "source": [
    "demand_str = '# Origin_ID Destination_ID <demand by interval> <truck demand by interval>\\n'\n",
    "\n",
    "hour = 5\n",
    "\n",
    "with open(demand_file_name, 'r') as infile:\n",
    "    for line in infile.readlines():\n",
    "        if line[0] != '#':\n",
    "            demands = line.rstrip('\\n').split(' ')\n",
    "            num_int = (len(demands) - 2) * hour\n",
    "            int_sums = [0 for i in range(num_int)]\n",
    "            break\n",
    "\n",
    "with open(demand_file_name, 'r') as infile:\n",
    "    for line in infile.readlines():\n",
    "        if line[0] != '#':\n",
    "            demands = line.rstrip('\\n').split(' ')\n",
    "            for i in range(2, 5):\n",
    "                demands[i] = demands[i + 1]\n",
    "        \n",
    "            for i in range(2, 6):\n",
    "                demands[i] = str(float(demands[i]) / 3)\n",
    "            for i in range(hour-1):\n",
    "                demands += demands[2:6]\n",
    "                \n",
    "            demands += ['0' for i in range(num_int)]\n",
    "            demand_str += ' '.join(demands) + '\\n'\n",
    "            \n",
    "            for i in range(num_int):\n",
    "                int_sums[i] += float(demands[2 + i])\n",
    "                \n",
    "print(int_sums)\n",
    "print(sum(int_sums)*2)\n",
    "\n",
    "f = open(os.path.join(out_path, demand_file_name), 'w')\n",
    "f.write(demand_str)\n",
    "f.close()"
   ]
  },
  {
   "cell_type": "code",
   "execution_count": null,
   "metadata": {
    "collapsed": true
   },
   "outputs": [],
   "source": []
  }
 ],
 "metadata": {
  "anaconda-cloud": {},
  "kernelspec": {
   "display_name": "Python [conda root]",
   "language": "python",
   "name": "conda-root-py"
  },
  "language_info": {
   "codemirror_mode": {
    "name": "ipython",
    "version": 3
   },
   "file_extension": ".py",
   "mimetype": "text/x-python",
   "name": "python",
   "nbconvert_exporter": "python",
   "pygments_lexer": "ipython3",
   "version": "3.5.2"
  }
 },
 "nbformat": 4,
 "nbformat_minor": 1
}
