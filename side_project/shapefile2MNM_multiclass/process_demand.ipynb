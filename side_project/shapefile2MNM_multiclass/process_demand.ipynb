{
 "cells": [
  {
   "cell_type": "code",
   "execution_count": 3,
   "metadata": {
    "collapsed": true
   },
   "outputs": [],
   "source": [
    "import os\n",
    "import pandas as pd\n",
    "import numpy as np\n",
    "import sys\n",
    "import shapefile\n",
    "import operator"
   ]
  },
  {
   "cell_type": "code",
   "execution_count": 4,
   "metadata": {
    "collapsed": true
   },
   "outputs": [],
   "source": [
    "out_path = os.path.join('..', '..', 'data', 'input_files_MckeesRocks_SPC')\n",
    "demand_file_name = 'MNM_input_demand'"
   ]
  },
  {
   "cell_type": "code",
   "execution_count": 18,
   "metadata": {
    "collapsed": false
   },
   "outputs": [
    {
     "name": "stdout",
     "output_type": "stream",
     "text": [
      "[10724.985700811452, 10724.985700811452, 11472.370651592448, 11464.645516206157, 11780.14905761374, 11780.14905761374, 12486.442466967874, 12521.06999286108, 12985.874137354733, 12985.874137354733, 13783.60875484809, 13771.166870819832, 12819.327867068563, 12819.327867068563, 13727.638967782914, 13758.957413134627, 11646.604481095661, 11646.604481095661, 12498.186279653648, 12507.687366240036, 10702.636964515856, 10702.636964515856, 11449.11190943846, 11474.679806972046, 714.9990467207599, 714.9990467207599, 764.8247101061521, 764.3097010804028, 785.3432705075883, 785.3432705075883, 832.4294977978643, 834.7379995240655, 865.7249424903265, 865.7249424903265, 918.9072503231835, 918.0777913879864, 854.6218578045786, 854.6218578045786, 915.175931185524, 917.2638275423216, 776.4402987397152, 776.4402987397152, 833.2124186435741, 833.845824415995, 713.5091309677314, 713.5091309677314, 763.2741272959108, 764.9786537981313]\n",
      "311717.0372409996\n"
     ]
    }
   ],
   "source": [
    "demand_str = '# Origin_ID Destination_ID <demand by interval> <truck demand by interval>\\n'\n",
    "\n",
    "with open(demand_file_name, 'r') as infile:\n",
    "    for line in infile.readlines():\n",
    "        if line[0] != '#':\n",
    "            demands = line.rstrip('\\n').split(' ')\n",
    "            num_int = (len(demands) - 2)\n",
    "            int_sums = [0 for i in range(num_int*2)]\n",
    "            break\n",
    "\n",
    "with open(demand_file_name, 'r') as infile:\n",
    "    for line in infile.readlines():\n",
    "        if line[0] != '#':\n",
    "            demands = line.rstrip('\\n').split(' ')\n",
    "            for i in range(2, 2+num_int):\n",
    "                demands[i] = str(float(demands[i]) / 3.2)\n",
    "            for i in range(6):\n",
    "                demands[2 + i*4] = demands[2 + i*4 + 1]\n",
    "            for i in range(2, 2+4):\n",
    "                demands[i] = str(float(demands[i]) / 1.2)\n",
    "            for i in range(2+4, 2+8):\n",
    "                demands[i] = str(float(demands[i]) / 1.1)\n",
    "            for i in range(2+16, 2+20):\n",
    "                demands[i] = str(float(demands[i]) / 1.1)\n",
    "            for i in range(2+20, 2+24):\n",
    "                demands[i] = str(float(demands[i]) / 1.2)\n",
    "            \n",
    "            for i in range(2, 2+num_int):\n",
    "                demands[i] = str(float(demands[i]) * 1.1)\n",
    "                \n",
    "            demands += [str(float(e)/15) for e in demands[2 : 2 + num_int]]\n",
    "            demand_str += ' '.join(demands) + '\\n'\n",
    "            \n",
    "            for i in range(num_int):\n",
    "                int_sums[i] += float(demands[2 + i])\n",
    "                int_sums[i + num_int] += float(demands[2 + i + num_int])\n",
    "                \n",
    "print(int_sums)\n",
    "print(sum(int_sums))\n",
    "\n",
    "f = open(os.path.join(out_path, demand_file_name), 'w')\n",
    "f.write(demand_str)\n",
    "f.close()"
   ]
  },
  {
   "cell_type": "code",
   "execution_count": 7,
   "metadata": {
    "collapsed": false
   },
   "outputs": [],
   "source": [
    "# demand_str = '# Origin_ID Destination_ID <demand by interval> <truck demand by interval>\\n'\n",
    "\n",
    "# hour = 5\n",
    "\n",
    "# with open(demand_file_name, 'r') as infile:\n",
    "#     for line in infile.readlines():\n",
    "#         if line[0] != '#':\n",
    "#             demands = line.rstrip('\\n').split(' ')\n",
    "#             num_int = (len(demands) - 2) * hour\n",
    "#             int_sums = [0 for i in range(num_int)]\n",
    "#             break\n",
    "\n",
    "# with open(demand_file_name, 'r') as infile:\n",
    "#     for line in infile.readlines():\n",
    "#         if line[0] != '#':\n",
    "#             demands = line.rstrip('\\n').split(' ')\n",
    "#             for i in range(2, 5):\n",
    "#                 demands[i] = demands[i + 1]\n",
    "        \n",
    "#             for i in range(2, 6):\n",
    "#                 demands[i] = str(float(demands[i]) / 3)\n",
    "#             for i in range(hour-1):\n",
    "#                 demands += demands[2:6]\n",
    "                \n",
    "#             demands += ['0' for i in range(num_int)]\n",
    "#             demand_str += ' '.join(demands) + '\\n'\n",
    "            \n",
    "#             for i in range(num_int):\n",
    "#                 int_sums[i] += float(demands[2 + i])\n",
    "                \n",
    "# print(int_sums)\n",
    "# print(sum(int_sums)*2)\n",
    "\n",
    "# f = open(os.path.join(out_path, demand_file_name), 'w')\n",
    "# f.write(demand_str)\n",
    "# f.close()"
   ]
  },
  {
   "cell_type": "code",
   "execution_count": null,
   "metadata": {
    "collapsed": true
   },
   "outputs": [],
   "source": []
  }
 ],
 "metadata": {
  "anaconda-cloud": {},
  "kernelspec": {
   "display_name": "Python [conda root]",
   "language": "python",
   "name": "conda-root-py"
  },
  "language_info": {
   "codemirror_mode": {
    "name": "ipython",
    "version": 3
   },
   "file_extension": ".py",
   "mimetype": "text/x-python",
   "name": "python",
   "nbconvert_exporter": "python",
   "pygments_lexer": "ipython3",
   "version": "3.5.2"
  }
 },
 "nbformat": 4,
 "nbformat_minor": 1
}
