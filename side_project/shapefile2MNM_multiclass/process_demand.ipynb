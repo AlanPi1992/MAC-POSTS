{
 "cells": [
  {
   "cell_type": "code",
   "execution_count": 1,
   "metadata": {
    "collapsed": true
   },
   "outputs": [],
   "source": [
    "import os\n",
    "import pandas as pd\n",
    "import numpy as np\n",
    "import sys\n",
    "import shapefile\n",
    "import operator"
   ]
  },
  {
   "cell_type": "code",
   "execution_count": 2,
   "metadata": {
    "collapsed": true
   },
   "outputs": [],
   "source": [
    "out_path = os.path.join('..', '..', 'data', 'input_files_MckeesRocks_SPC')\n",
    "demand_file_name = 'MNM_input_demand'"
   ]
  },
  {
   "cell_type": "code",
   "execution_count": 4,
   "metadata": {
    "collapsed": false
   },
   "outputs": [
    {
     "name": "stdout",
     "output_type": "stream",
     "text": [
      "[22879.969495064324, 22879.969495064324, 24474.39072339687, 24457.910434572892, 25130.984656242825, 25130.984656242825, 26637.743929531654, 26711.615984770095, 27703.198159690448, 27703.198159690448, 29405.03201034187, 29378.489324415565, 27347.899449746514, 27347.899449746514, 29285.629797936766, 29352.44248135429, 24846.089559670887, 24846.089559670887, 26662.79739659437, 26683.06638131184, 22832.292190967404, 22832.292190967404, 24424.77207346915, 24479.316921540198, 2287.9969495064547, 2287.9969495064547, 2447.4390723397246, 2445.791043457288, 2513.0984656242526, 2513.0984656242526, 2663.774392953144, 2671.1615984769956, 2770.3198159689873, 2770.3198159689873, 2940.5032010342206, 2937.8489324416264, 2734.7899449746387, 2734.7899449746387, 2928.562979793698, 2935.2442481354115, 2484.6089559670895, 2484.6089559670895, 2666.279739659489, 2668.3066381312233, 2283.2292190967432, 2283.2292190967432, 2442.477207346861, 2447.9316921540712]\n",
      "685777.4819302004\n"
     ]
    }
   ],
   "source": [
    "demand_str = '# Origin_ID Destination_ID <demand by interval> <truck demand by interval>\\n'\n",
    "\n",
    "with open(demand_file_name, 'r') as infile:\n",
    "    for line in infile.readlines():\n",
    "        if line[0] != '#':\n",
    "            demands = line.rstrip('\\n').split(' ')\n",
    "            num_int = (len(demands) - 2)\n",
    "            int_sums = [0 for i in range(num_int*2)]\n",
    "            break\n",
    "\n",
    "with open(demand_file_name, 'r') as infile:\n",
    "    for line in infile.readlines():\n",
    "        if line[0] != '#':\n",
    "            demands = line.rstrip('\\n').split(' ')\n",
    "            for i in range(2, 2+num_int):\n",
    "                demands[i] = str(float(demands[i]) / 1.5)\n",
    "            for i in range(6):\n",
    "                demands[2 + i*4] = demands[2 + i*4 + 1]\n",
    "            for i in range(2, 2+4):\n",
    "                demands[i] = str(float(demands[i]) / 1.2)\n",
    "            for i in range(2+4, 2+8):\n",
    "                demands[i] = str(float(demands[i]) / 1.1)\n",
    "            for i in range(2+16, 2+20):\n",
    "                demands[i] = str(float(demands[i]) / 1.1)\n",
    "            for i in range(2+20, 2+24):\n",
    "                demands[i] = str(float(demands[i]) / 1.2)\n",
    "            \n",
    "            for i in range(2, 2+num_int):\n",
    "                demands[i] = str(float(demands[i]) * 1.1)\n",
    "                \n",
    "            demands += [str(float(e)/10) for e in demands[2 : 2 + num_int]]\n",
    "#             demands += ['0' for e in demands[2 : 2 + num_int]]\n",
    "            demand_str += ' '.join(demands) + '\\n'\n",
    "            \n",
    "            for i in range(num_int):\n",
    "                int_sums[i] += float(demands[2 + i])\n",
    "                int_sums[i + num_int] += float(demands[2 + i + num_int])\n",
    "                \n",
    "print(int_sums)\n",
    "print(sum(int_sums))\n",
    "\n",
    "f = open(os.path.join(out_path, demand_file_name), 'w')\n",
    "f.write(demand_str)\n",
    "f.close()"
   ]
  },
  {
   "cell_type": "code",
   "execution_count": 7,
   "metadata": {
    "collapsed": false
   },
   "outputs": [],
   "source": [
    "# demand_str = '# Origin_ID Destination_ID <demand by interval> <truck demand by interval>\\n'\n",
    "\n",
    "# hour = 5\n",
    "\n",
    "# with open(demand_file_name, 'r') as infile:\n",
    "#     for line in infile.readlines():\n",
    "#         if line[0] != '#':\n",
    "#             demands = line.rstrip('\\n').split(' ')\n",
    "#             num_int = (len(demands) - 2) * hour\n",
    "#             int_sums = [0 for i in range(num_int)]\n",
    "#             break\n",
    "\n",
    "# with open(demand_file_name, 'r') as infile:\n",
    "#     for line in infile.readlines():\n",
    "#         if line[0] != '#':\n",
    "#             demands = line.rstrip('\\n').split(' ')\n",
    "#             for i in range(2, 5):\n",
    "#                 demands[i] = demands[i + 1]\n",
    "        \n",
    "#             for i in range(2, 6):\n",
    "#                 demands[i] = str(float(demands[i]) / 3)\n",
    "#             for i in range(hour-1):\n",
    "#                 demands += demands[2:6]\n",
    "                \n",
    "#             demands += ['0' for i in range(num_int)]\n",
    "#             demand_str += ' '.join(demands) + '\\n'\n",
    "            \n",
    "#             for i in range(num_int):\n",
    "#                 int_sums[i] += float(demands[2 + i])\n",
    "                \n",
    "# print(int_sums)\n",
    "# print(sum(int_sums)*2)\n",
    "\n",
    "# f = open(os.path.join(out_path, demand_file_name), 'w')\n",
    "# f.write(demand_str)\n",
    "# f.close()"
   ]
  },
  {
   "cell_type": "code",
   "execution_count": null,
   "metadata": {
    "collapsed": true
   },
   "outputs": [],
   "source": []
  }
 ],
 "metadata": {
  "anaconda-cloud": {},
  "kernelspec": {
   "display_name": "Python [conda root]",
   "language": "python",
   "name": "conda-root-py"
  },
  "language_info": {
   "codemirror_mode": {
    "name": "ipython",
    "version": 3
   },
   "file_extension": ".py",
   "mimetype": "text/x-python",
   "name": "python",
   "nbconvert_exporter": "python",
   "pygments_lexer": "ipython3",
   "version": "3.5.2"
  }
 },
 "nbformat": 4,
 "nbformat_minor": 1
}
