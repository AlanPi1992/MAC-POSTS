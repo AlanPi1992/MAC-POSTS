{
 "cells": [
  {
   "cell_type": "code",
   "execution_count": 45,
   "metadata": {
    "collapsed": true
   },
   "outputs": [],
   "source": [
    "import numpy as np"
   ]
  },
  {
   "cell_type": "code",
   "execution_count": 111,
   "metadata": {
    "collapsed": false
   },
   "outputs": [],
   "source": [
    "folder_name = \"fake\"\n",
    "num_row = 2\n",
    "num_col = 2\n",
    "O_prob = 0.2\n",
    "D_prob = 0.2\n",
    "cap = 2000\n",
    "length = 0.5\n",
    "rhoj = 200\n",
    "num_lane = 2\n",
    "spd_lb = 20\n",
    "spd_ub = 50\n",
    "\n",
    "assign_horizon = 10\n",
    "demand = 500"
   ]
  },
  {
   "cell_type": "code",
   "execution_count": 102,
   "metadata": {
    "collapsed": true
   },
   "outputs": [],
   "source": [
    "link_type = 'CTM'\n",
    "node_type = 'FWJ'\n",
    "connector_type = 'PQ'\n",
    "O_type = 'DMOND'\n",
    "D_type = 'DMDND'"
   ]
  },
  {
   "cell_type": "code",
   "execution_count": 112,
   "metadata": {
    "collapsed": true
   },
   "outputs": [],
   "source": [
    "file_attr = \"MNM_input_\"\n",
    "node_file = file_attr + \"node\"\n",
    "link_file = file_attr + \"link\"\n",
    "snap_file = \"Snap_graph\"\n",
    "od_file = file_attr + \"od\"\n",
    "demand_file = file_attr + 'demand'"
   ]
  },
  {
   "cell_type": "code",
   "execution_count": 41,
   "metadata": {
    "collapsed": true
   },
   "outputs": [],
   "source": [
    "def add_node_str(node_num, type_str):\n",
    "    return str(node_num) + ' ' + type_str + '\\n'"
   ]
  },
  {
   "cell_type": "code",
   "execution_count": 40,
   "metadata": {
    "collapsed": true
   },
   "outputs": [],
   "source": [
    "def add_snap_str(link_num, from_node, to_node):\n",
    "    return str(link_num) + ' ' + str(from_node) + ' ' + str(to_node) + '\\n';"
   ]
  },
  {
   "cell_type": "code",
   "execution_count": 68,
   "metadata": {
    "collapsed": false
   },
   "outputs": [],
   "source": [
    "def add_link_str(link_num, link_type):\n",
    "    # CTM 0.8 45 2200 200 1\n",
    "    spd = np.round(np.random.random_sample() * (spd_ub - spd_lb)  + np.float(spd_lb))\n",
    "    return str(link_num) + ' ' + str(link_type) + ' ' + str(length) + ' ' + str(spd) + ' ' + str(cap) + ' ' + str(rhoj) + ' ' + str(num_lane) + '\\n'"
   ]
  },
  {
   "cell_type": "code",
   "execution_count": 85,
   "metadata": {
    "collapsed": true
   },
   "outputs": [],
   "source": [
    "def add_OD(od_id, node_id):\n",
    "    return str(od_id) + ' ' + str(node_id) + '\\n'"
   ]
  },
  {
   "cell_type": "code",
   "execution_count": 103,
   "metadata": {
    "collapsed": false
   },
   "outputs": [],
   "source": [
    "link_str_list = []\n",
    "node_str_list = []\n",
    "snap_str_list = []\n",
    "O_dict = dict()\n",
    "D_dict = dict()\n",
    "O_str_list = []\n",
    "D_str_list = []\n",
    "\n",
    "node_counter = 1\n",
    "link_counter = 1\n",
    "O_counter = 1\n",
    "D_counter = 1\n",
    "\n",
    "for i in xrange(num_row):\n",
    "    for j in xrange(num_col):\n",
    "        node_str_list.append(add_node_str(node_counter, node_type))\n",
    "        if (j != num_col - 1):\n",
    "            node1 = num_col * i + j + 1\n",
    "            node2 = node1 + 1\n",
    "            link_str_list.append(add_link_str(link_counter, link_type))\n",
    "            snap_str_list.append(add_snap_str(link_counter, node1, node2))\n",
    "            link_counter += 1\n",
    "            link_str_list.append(add_link_str(link_counter, link_type))\n",
    "            snap_str_list.append(add_snap_str(link_counter, node2, node1))   \n",
    "            link_counter += 1\n",
    "        if(i != num_row - 1):\n",
    "            node1 = num_col * i + j + 1\n",
    "            node2 = node1 + num_col\n",
    "            link_str_list.append(add_link_str(link_counter, link_type))\n",
    "            snap_str_list.append(add_snap_str(link_counter, node1, node2))\n",
    "            link_counter += 1\n",
    "            link_str_list.append(add_link_str(link_counter, link_type))\n",
    "            snap_str_list.append(add_snap_str(link_counter, node2, node1)) \n",
    "            link_counter += 1\n",
    "        node_counter += 1\n",
    "            \n",
    "for i in xrange(num_row):\n",
    "    for j in xrange(num_col):\n",
    "        node1 = num_col * i + j + 1\n",
    "        if(np.random.random_sample() < O_prob or (i == 0 and j ==0)):\n",
    "            node_str_list.append(add_node_str(node_counter, O_type))\n",
    "            O_dict[O_counter] = node1\n",
    "            O_str_list.append(add_OD(O_counter, node_counter))\n",
    "            link_str_list.append(add_link_str(link_counter, connector_type))\n",
    "            snap_str_list.append(add_snap_str(link_counter, node_counter, node1)) \n",
    "            link_counter += 1\n",
    "            node_counter += 1\n",
    "            O_counter += 1\n",
    "        if(np.random.random_sample() < D_prob or (i == num_row -1 and j == num_col - 1)):\n",
    "            node_str_list.append(add_node_str(node_counter, D_type))\n",
    "            D_dict[D_counter] = node1\n",
    "            D_str_list.append(add_OD(D_counter, node_counter))\n",
    "            link_str_list.append(add_link_str(link_counter, connector_type))\n",
    "            snap_str_list.append(add_snap_str(link_counter, node1, node_counter)) \n",
    "            link_counter += 1\n",
    "            node_counter += 1\n",
    "            D_counter += 1\n"
   ]
  },
  {
   "cell_type": "code",
   "execution_count": 94,
   "metadata": {
    "collapsed": false
   },
   "outputs": [
    {
     "name": "stdout",
     "output_type": "stream",
     "text": [
      "['1 CTM 0.5 25.0 2000 200 2\\n', '2 CTM 0.5 40.0 2000 200 2\\n', '3 CTM 0.5 39.0 2000 200 2\\n', '4 CTM 0.5 30.0 2000 200 2\\n', '5 CTM 0.5 34.0 2000 200 2\\n', '6 CTM 0.5 25.0 2000 200 2\\n', '7 CTM 0.5 29.0 2000 200 2\\n', '8 CTM 0.5 48.0 2000 200 2\\n', '9 CTM 0.5 29.0 2000 200 2\\n', '10 CTM 0.5 31.0 2000 200 2\\n', '11 CTM 0.5 44.0 2000 200 2\\n', '12 CTM 0.5 23.0 2000 200 2\\n', '13 CTM 0.5 27.0 2000 200 2\\n']\n",
      "['1 FWJ\\n', '2 FWJ\\n', '3 FWJ\\n', '4 FWJ\\n', '5 DMOND\\n', '6 DMOND\\n', '7 DMDND\\n', '8 DMOND\\n', '9 DMDND\\n']\n",
      "['1 1 2\\n', '2 2 1\\n', '3 1 3\\n', '4 3 1\\n', '5 2 4\\n', '6 4 2\\n', '7 3 4\\n', '8 4 3\\n', '9 5 1\\n', '10 6 2\\n', '11 2 7\\n', '12 8 3\\n', '13 4 9\\n']\n",
      "['1 5\\n', '2 6\\n', '3 8\\n']\n",
      "['1 7\\n', '2 9\\n']\n",
      "{1: 1, 2: 2, 3: 3}\n"
     ]
    }
   ],
   "source": [
    "print link_str_list\n",
    "print node_str_list\n",
    "print snap_str_list\n",
    "print O_str_list\n",
    "print D_str_list\n",
    "print O_dict"
   ]
  },
  {
   "cell_type": "code",
   "execution_count": 113,
   "metadata": {
    "collapsed": true
   },
   "outputs": [],
   "source": [
    "def add_demand_str(O, D):\n",
    "    l = [str(O), str(D)]\n",
    "    d = [str(demand) for i in range(assign_horizon)]\n",
    "    l = l + d\n",
    "    return ' '.join(l) + '\\n'"
   ]
  },
  {
   "cell_type": "code",
   "execution_count": 115,
   "metadata": {
    "collapsed": true
   },
   "outputs": [],
   "source": [
    "# Origin_ID Destination_ID <demand by interval>\n",
    "demand_str_list = []\n",
    "\n",
    "for O, O_node in O_dict.iteritems():\n",
    "    for D, D_node in D_dict.iteritems():\n",
    "        if O_node != D_node:\n",
    "            demand_str_list.append(add_demand_str(O, D))"
   ]
  },
  {
   "cell_type": "code",
   "execution_count": 118,
   "metadata": {
    "collapsed": false
   },
   "outputs": [],
   "source": [
    "f = file(link_file, 'w')\n",
    "f.write(\"#ID Type LEN(mile) FFS(mile/h) Cap(v/hour) RHOJ(v/miles) Lane\\n\")\n",
    "for line in link_str_list:\n",
    "    f.write(line)\n",
    "f.close()\n",
    "\n",
    "f = file(node_file, 'w')\n",
    "f.write('#ID Type\\n')\n",
    "for line in node_str_list:\n",
    "    f.write(line)\n",
    "f.close()\n",
    "\n",
    "f = file(snap_file, 'w')\n",
    "f.write('# EdgeID FromNodeId ToNodeId\\n')\n",
    "for line in snap_str_list:\n",
    "    f.write(line)\n",
    "f.close()\n",
    "\n",
    "f = file(od_file, 'w')\n",
    "f.write('#Origin_ID <-> node_ID\\n')\n",
    "for O, node in O_dict.iteritems():\n",
    "    f.write(str(O) + ' ' + str(node) + '\\n')\n",
    "f.write('#Dest_ID <-> node_ID\\n')\n",
    "for D, node in D_dict.iteritems():\n",
    "    f.write(str(D) + ' ' + str(node) + '\\n')\n",
    "f.close()\n",
    "\n",
    "f = file(demand_file, 'w')\n",
    "f.write('#Origin_ID Destination_ID <demand by interval>\\n')\n",
    "for line in demand_str_list:\n",
    "    f.write(line)\n",
    "f.close()"
   ]
  },
  {
   "cell_type": "code",
   "execution_count": 121,
   "metadata": {
    "collapsed": false
   },
   "outputs": [
    {
     "name": "stdout",
     "output_type": "stream",
     "text": [
      "maximum_interval: 10\n",
      "num_of_link: 11\n",
      "num_of_node: 7\n",
      "num_of_O: 1\n",
      "num_of_D: 2\n",
      "num_of_od: 2\n"
     ]
    }
   ],
   "source": [
    "print 'maximum_interval:', assign_horizon\n",
    "print 'num_of_link:', len(link_str_list)\n",
    "print 'num_of_node:', len(node_str_list)\n",
    "print 'num_of_O:', len(O_dict)\n",
    "print 'num_of_D:', len(D_dict)\n",
    "print 'num_of_od:', len(demand_str_list)"
   ]
  }
 ],
 "metadata": {
  "anaconda-cloud": {},
  "kernelspec": {
   "display_name": "Python [conda root]",
   "language": "python",
   "name": "conda-root-py"
  },
  "language_info": {
   "codemirror_mode": {
    "name": "ipython",
    "version": 2
   },
   "file_extension": ".py",
   "mimetype": "text/x-python",
   "name": "python",
   "nbconvert_exporter": "python",
   "pygments_lexer": "ipython2",
   "version": "2.7.12"
  }
 },
 "nbformat": 4,
 "nbformat_minor": 1
}
